{
 "cells": [
  {
   "cell_type": "markdown",
   "id": "60cd51a9",
   "metadata": {},
   "source": [
    "# NumPy provides a convenient and efficient way to handle the vast amount of data. NumPy is also very convenient with Matrix multiplication and data reshaping. NumPy is fast which makes it reasonable to work with a large set of data.\n",
    "\n"
   ]
  },
  {
   "cell_type": "raw",
   "id": "801f80e5",
   "metadata": {},
   "source": []
  },
  {
   "cell_type": "markdown",
   "id": "e21daa02",
   "metadata": {},
   "source": [
    "# Load Numpy and check version"
   ]
  },
  {
   "cell_type": "code",
   "execution_count": 4,
   "id": "44916a9d",
   "metadata": {},
   "outputs": [
    {
     "data": {
      "text/plain": [
       "'1.21.5'"
      ]
     },
     "execution_count": 4,
     "metadata": {},
     "output_type": "execute_result"
    }
   ],
   "source": [
    "import numpy as np\n",
    "np.__version__"
   ]
  },
  {
   "cell_type": "markdown",
   "id": "1fd9fd14",
   "metadata": {},
   "source": [
    "# how to create numpy array (1-D)"
   ]
  },
  {
   "cell_type": "code",
   "execution_count": 7,
   "id": "5204ee29",
   "metadata": {},
   "outputs": [
    {
     "name": "stdout",
     "output_type": "stream",
     "text": [
      "[5 6 7 6 5 4 9]\n",
      "int32\n",
      "(7,)\n"
     ]
    }
   ],
   "source": [
    "import numpy as np\n",
    "a = np.array([5,6,7,6,5,4,9])    #create an Interger array\n",
    "print(a)\n",
    "print(a.dtype)    #dtype that returns the data type of the array\n",
    "print(a.shape)    #The shape of an array is the number of elements in each dimension."
   ]
  },
  {
   "cell_type": "code",
   "execution_count": 11,
   "id": "b216d971",
   "metadata": {},
   "outputs": [
    {
     "name": "stdout",
     "output_type": "stream",
     "text": [
      "[ 0  1  2  3  4  5  6  7  8  9 10 11 12 13 14 15 16 17 18 19 20 21 22 23\n",
      " 24 25 26 27 28 29 30 31 32 33 34 35 36 37 38 39 40 41 42 43 44 45 46 47\n",
      " 48 49 50 51 52 53 54 55 56 57 58 59 60 61 62 63 64 65 66 67 68 69 70 71\n",
      " 72 73 74 75 76 77 78 79 80 81 82 83 84 85 86 87 88 89 90 91 92 93 94 95\n",
      " 96 97 98]\n",
      "int32\n",
      "(99,)\n"
     ]
    }
   ],
   "source": [
    "import numpy as np\n",
    "a = np.arange(99)    #create an array with values less than 1 as in given as parameter\n",
    "print(a)\n",
    "print(a.dtype)    \n",
    "print(a.shape)"
   ]
  },
  {
   "cell_type": "code",
   "execution_count": 12,
   "id": "2e1d0ef5",
   "metadata": {},
   "outputs": [
    {
     "name": "stdout",
     "output_type": "stream",
     "text": [
      "[0.  1.  2.  3.  4.1]\n",
      "float64\n",
      "(5,)\n"
     ]
    }
   ],
   "source": [
    "import numpy as np\n",
    "a = np.array([0.0,1.0,2.0,3.0,4.1])     #create an floating-point array \n",
    "print(a)\n",
    "print(a.dtype)    \n",
    "print(a.shape)"
   ]
  },
  {
   "cell_type": "code",
   "execution_count": 16,
   "id": "1ed9183f",
   "metadata": {},
   "outputs": [
    {
     "name": "stdout",
     "output_type": "stream",
     "text": [
      "[0. 1. 2. 3. 4.]\n",
      "float64\n",
      "(5,)\n"
     ]
    }
   ],
   "source": [
    "import numpy as np\n",
    "a = np.arange(5.)     #create an array with values less than 1 as in given as parameter\n",
    "print(a)\n",
    "print(a.dtype)    \n",
    "print(a.shape)"
   ]
  },
  {
   "cell_type": "code",
   "execution_count": 15,
   "id": "9828eed0",
   "metadata": {},
   "outputs": [
    {
     "name": "stdout",
     "output_type": "stream",
     "text": [
      "['ab' 'b' 'c' 'd' 'e']\n",
      "<U2\n",
      "(5,)\n"
     ]
    }
   ],
   "source": [
    "import numpy as np\n",
    "a = np.array(['ab','b','c','d','e'])    #create an Unicode string array of length-1\n",
    "print(a)\n",
    "print(a.dtype)    \n",
    "print(a.shape)  "
   ]
  },
  {
   "cell_type": "code",
   "execution_count": 9,
   "id": "645dac83",
   "metadata": {},
   "outputs": [
    {
     "name": "stdout",
     "output_type": "stream",
     "text": [
      "['cat' 'dog' 'bat' 'hat' 'net']\n",
      "<U3\n",
      "(5,)\n"
     ]
    }
   ],
   "source": [
    "import numpy as np\n",
    "a = np.array(['cat','dog','bat','hat','net'])  #create an Unicode string array of length-3\n",
    "print(a)\n",
    "print(a.dtype)    \n",
    "print(a.shape) "
   ]
  },
  {
   "cell_type": "markdown",
   "id": "1b27c76f",
   "metadata": {},
   "source": [
    "# how to create numpy array (2-D)"
   ]
  },
  {
   "cell_type": "code",
   "execution_count": 22,
   "id": "06e63a2c",
   "metadata": {},
   "outputs": [
    {
     "name": "stdout",
     "output_type": "stream",
     "text": [
      "[[0 1 2 3 4]\n",
      " [5 6 7 8 9]]\n",
      "int32\n",
      "(2, 5)\n"
     ]
    }
   ],
   "source": [
    "import numpy as np\n",
    "a = np.array([[0,1,2,3,4],[5,6,7,8,9]])    #create an 2 dimentional Interger array\n",
    "print(a)\n",
    "print(a.dtype)\n",
    "print(a.shape)"
   ]
  },
  {
   "cell_type": "code",
   "execution_count": 20,
   "id": "ee02c726",
   "metadata": {},
   "outputs": [
    {
     "name": "stdout",
     "output_type": "stream",
     "text": [
      "[[0 1]\n",
      " [2 3]\n",
      " [4 5]\n",
      " [6 7]\n",
      " [8 9]]\n",
      "int32\n",
      "(5, 2)\n"
     ]
    }
   ],
   "source": [
    "import numpy as np\n",
    "a = np.arange(10).reshape(5,2)    #create an 2 dimentional Interger array using arange and reshape\n",
    "print(a)\n",
    "print(a.dtype)\n",
    "print(a.shape)"
   ]
  },
  {
   "cell_type": "code",
   "execution_count": 21,
   "id": "ee412bf9",
   "metadata": {},
   "outputs": [
    {
     "name": "stdout",
     "output_type": "stream",
     "text": [
      "[[0. 1. 2. 3. 4.]\n",
      " [5. 6. 7. 8. 9.]]\n",
      "float64\n",
      "(2, 5)\n"
     ]
    }
   ],
   "source": [
    "import numpy as np\n",
    "a = np.array([[0.0,1.0,2.0,3.0,4.0],[5.0,6.0,7.0,8.0,9.0]])    #create an 2 dimentional floating-point array\n",
    "print(a)\n",
    "print(a.dtype)\n",
    "print(a.shape)"
   ]
  },
  {
   "cell_type": "code",
   "execution_count": 19,
   "id": "bb96bb8a",
   "metadata": {},
   "outputs": [
    {
     "name": "stdout",
     "output_type": "stream",
     "text": [
      "[[0. 1. 2. 3. 4.]\n",
      " [5. 6. 7. 8. 9.]]\n",
      "float64\n",
      "(2, 5)\n"
     ]
    }
   ],
   "source": [
    "import numpy as np\n",
    "a = np.arange(10.0).reshape(2,5)    #create an 2 dimentional floating-point array using arange and reshape\n",
    "print(a)\n",
    "print(a.dtype)\n",
    "print(a.shape)"
   ]
  },
  {
   "cell_type": "markdown",
   "id": "c5f3df4b",
   "metadata": {},
   "source": [
    "# how to create numpy array (3-D)"
   ]
  },
  {
   "cell_type": "code",
   "execution_count": 29,
   "id": "bd94092e",
   "metadata": {},
   "outputs": [
    {
     "name": "stdout",
     "output_type": "stream",
     "text": [
      "[[[ 0  1]\n",
      "  [ 2  3]]\n",
      "\n",
      " [[ 4  5]\n",
      "  [ 6  7]]\n",
      "\n",
      " [[ 8  9]\n",
      "  [10 11]]]\n",
      "int32\n",
      "(3, 2, 2)\n"
     ]
    }
   ],
   "source": [
    "import numpy as np\n",
    "a = np.array([[[0,1], [2,3]], [[4,5], [6,7]], [[8,9], [10,11]]]) #create an 3 dimentional Interger array\n",
    "print(a)\n",
    "print(a.dtype)\n",
    "print(a.shape)\n"
   ]
  },
  {
   "cell_type": "code",
   "execution_count": 28,
   "id": "ab707e2e",
   "metadata": {},
   "outputs": [
    {
     "name": "stdout",
     "output_type": "stream",
     "text": [
      "[[[ 0  1]\n",
      "  [ 2  3]\n",
      "  [ 4  5]]\n",
      "\n",
      " [[ 6  7]\n",
      "  [ 8  9]\n",
      "  [10 11]]]\n",
      "int32\n",
      "(2, 3, 2)\n"
     ]
    }
   ],
   "source": [
    "import numpy as np\n",
    "a = np.arange(12).reshape(2,3,2)  #create an 2 dimentional Interger array using arange and reshape\n",
    "print(a)\n",
    "print(a.dtype)\n",
    "print(a.shape)"
   ]
  },
  {
   "cell_type": "code",
   "execution_count": 24,
   "id": "84634db0",
   "metadata": {},
   "outputs": [
    {
     "name": "stdout",
     "output_type": "stream",
     "text": [
      "[[[0 1]]\n",
      "\n",
      " [[2 3]]\n",
      "\n",
      " [[4 5]]]\n",
      "int32\n",
      "(3, 1, 2)\n"
     ]
    }
   ],
   "source": [
    "import numpy as np\n",
    "a = np.array([[[0,1]],[[2,3]],[[4,5]]])\n",
    "print(a)\n",
    "print(a.dtype)\n",
    "print(a.shape)"
   ]
  },
  {
   "cell_type": "code",
   "execution_count": 23,
   "id": "77562afc",
   "metadata": {},
   "outputs": [
    {
     "name": "stdout",
     "output_type": "stream",
     "text": [
      "[[[0 1]]\n",
      "\n",
      " [[2 3]]\n",
      "\n",
      " [[4 5]]]\n",
      "int32\n",
      "(3, 1, 2)\n"
     ]
    }
   ],
   "source": [
    "import numpy as np\n",
    "a = np.arange(6).reshape(3,1,2)\n",
    "print(a)\n",
    "print(a.dtype)\n",
    "print(a.shape)"
   ]
  },
  {
   "cell_type": "markdown",
   "id": "190e59e0",
   "metadata": {},
   "source": [
    "# Creating Array of once"
   ]
  },
  {
   "cell_type": "markdown",
   "id": "4a95f6ad",
   "metadata": {},
   "source": [
    "np.ones(shape, dtype=None) "
   ]
  },
  {
   "cell_type": "markdown",
   "id": "e453888c",
   "metadata": {},
   "source": [
    "Return a new array of given shape and type, filled with ones."
   ]
  },
  {
   "cell_type": "markdown",
   "id": "e71799f7",
   "metadata": {},
   "source": [
    "The shape is an int or tuple of ints to define the size of the array. If we just specify an int variable, a one-dimensional array will be returned. For a tuple of ints, the array of given shape will be returned.\n",
    "The dtype is an optional parameter with default value as a float. It’s used to specify the data type of the array, for example, int.\n"
   ]
  },
  {
   "cell_type": "code",
   "execution_count": 30,
   "id": "f0932fd5",
   "metadata": {},
   "outputs": [
    {
     "name": "stdout",
     "output_type": "stream",
     "text": [
      "[1 1]\n",
      "int32\n",
      "(2,)\n"
     ]
    }
   ],
   "source": [
    "import numpy as np\n",
    "a = np.ones(2)\n",
    "print(a)\n",
    "print(a.dtype)\n",
    "print(a.shape)"
   ]
  },
  {
   "cell_type": "code",
   "execution_count": 34,
   "id": "23153692",
   "metadata": {},
   "outputs": [
    {
     "name": "stdout",
     "output_type": "stream",
     "text": [
      "[[1. 1.]\n",
      " [1. 1.]]\n",
      "float64\n",
      "(2, 2)\n"
     ]
    }
   ],
   "source": [
    "import numpy as np\n",
    "a = np.ones((2,2))\n",
    "print(a)\n",
    "print(a.dtype)\n",
    "print(a.shape)"
   ]
  },
  {
   "cell_type": "markdown",
   "id": "6335fc1e",
   "metadata": {},
   "source": [
    "By default it creates an Floating point array. To create and araay of different data type specify the dtype as paramenter."
   ]
  },
  {
   "cell_type": "code",
   "execution_count": 25,
   "id": "c77ccf08",
   "metadata": {},
   "outputs": [
    {
     "name": "stdout",
     "output_type": "stream",
     "text": [
      "[1 1 1 1]\n",
      "int32\n",
      "(4,)\n"
     ]
    }
   ],
   "source": [
    "import numpy as np\n",
    "a = np.ones(4, dtype=np.int32)\n",
    "print(a)\n",
    "print(a.dtype)\n",
    "print(a.shape)"
   ]
  },
  {
   "cell_type": "code",
   "execution_count": 26,
   "id": "26f60766",
   "metadata": {},
   "outputs": [
    {
     "name": "stdout",
     "output_type": "stream",
     "text": [
      "[[1 1 1 1]\n",
      " [1 1 1 1]\n",
      " [1 1 1 1]\n",
      " [1 1 1 1]]\n",
      "int32\n",
      "(4, 4)\n"
     ]
    }
   ],
   "source": [
    "import numpy as np\n",
    "a = np.ones((4,4), dtype=np.int32)\n",
    "print(a)\n",
    "print(a.dtype)\n",
    "print(a.shape)"
   ]
  },
  {
   "cell_type": "markdown",
   "id": "463b5ad8",
   "metadata": {},
   "source": [
    "# Creating Array of Zeros"
   ]
  },
  {
   "cell_type": "markdown",
   "id": "040302da",
   "metadata": {},
   "source": [
    "np.zeros(shape, dtype=none)"
   ]
  },
  {
   "cell_type": "markdown",
   "id": "9d5bb729",
   "metadata": {},
   "source": [
    "Return a new array of given shape and type, filled with zeros."
   ]
  },
  {
   "cell_type": "markdown",
   "id": "3072f12e",
   "metadata": {},
   "source": [
    "shape: int or tuple of ints: Shape of the new array, e.g., (2, 3) or 2. dtype: data-type, optional The desired data-type for the array, e.g., np.int8. Default is np.float64."
   ]
  },
  {
   "cell_type": "code",
   "execution_count": 37,
   "id": "2bcac19a",
   "metadata": {},
   "outputs": [
    {
     "name": "stdout",
     "output_type": "stream",
     "text": [
      "[0. 0. 0. 0. 0.]\n",
      "float64\n",
      "(5,)\n"
     ]
    }
   ],
   "source": [
    "import numpy as np\n",
    "a = np.zeros(5)\n",
    "print(a)\n",
    "print(a.dtype)\n",
    "print(a.shape)"
   ]
  },
  {
   "cell_type": "code",
   "execution_count": 38,
   "id": "ff16c3c0",
   "metadata": {},
   "outputs": [
    {
     "name": "stdout",
     "output_type": "stream",
     "text": [
      "[[0. 0.]\n",
      " [0. 0.]]\n",
      "float64\n",
      "(2, 2)\n"
     ]
    }
   ],
   "source": [
    "import numpy as np\n",
    "a = np.zeros((2,2))\n",
    "print(a)\n",
    "print(a.dtype)\n",
    "print(a.shape)"
   ]
  },
  {
   "cell_type": "markdown",
   "id": "a93d773f",
   "metadata": {},
   "source": [
    "By default it creates an Floating point array. To create and araay of different data type specify the dtype as paramenter."
   ]
  },
  {
   "cell_type": "code",
   "execution_count": 27,
   "id": "c8b2636e",
   "metadata": {},
   "outputs": [
    {
     "name": "stdout",
     "output_type": "stream",
     "text": [
      "[0 0 0 0]\n",
      "int32\n",
      "(4,)\n"
     ]
    }
   ],
   "source": [
    "import numpy as np\n",
    "a = np.zeros(4, dtype=np.int32)\n",
    "print(a)\n",
    "print(a.dtype)\n",
    "print(a.shape)"
   ]
  },
  {
   "cell_type": "code",
   "execution_count": 28,
   "id": "13d2f2e2",
   "metadata": {},
   "outputs": [
    {
     "name": "stdout",
     "output_type": "stream",
     "text": [
      "[[0 0 0 0]\n",
      " [0 0 0 0]\n",
      " [0 0 0 0]\n",
      " [0 0 0 0]]\n",
      "int32\n",
      "(4, 4)\n"
     ]
    }
   ],
   "source": [
    "import numpy as np\n",
    "a = np.zeros((4,4), dtype=np.int32)\n",
    "print(a)\n",
    "print(a.dtype)\n",
    "print(a.shape)"
   ]
  },
  {
   "cell_type": "markdown",
   "id": "db7a179f",
   "metadata": {},
   "source": [
    "# Create an array with random numbers"
   ]
  },
  {
   "cell_type": "markdown",
   "id": "69b1d5a9",
   "metadata": {},
   "source": [
    "random.randint(low, high=None, size=None, dtype=int)"
   ]
  },
  {
   "cell_type": "markdown",
   "id": "be0cc6df",
   "metadata": {},
   "source": [
    "Return random integers from low (inclusive) to high (exclusive)."
   ]
  },
  {
   "cell_type": "markdown",
   "id": "d0b930d6",
   "metadata": {},
   "source": [
    "Return random integers from the “discrete uniform” distribution of the specified dtype in the “half-open” interval [low, high). If high is None (the default), then results are from [0, low)."
   ]
  },
  {
   "cell_type": "code",
   "execution_count": 34,
   "id": "a555c7f7",
   "metadata": {},
   "outputs": [
    {
     "name": "stdout",
     "output_type": "stream",
     "text": [
      "[6 2 0 0 3]\n",
      "int32\n",
      "(5,)\n"
     ]
    }
   ],
   "source": [
    "import numpy as np\n",
    "a = np.random.randint(10,size=5)\n",
    "print(a)\n",
    "print(a.dtype)\n",
    "print(a.shape)"
   ]
  },
  {
   "cell_type": "code",
   "execution_count": 32,
   "id": "13b1fc3e",
   "metadata": {},
   "outputs": [
    {
     "name": "stdout",
     "output_type": "stream",
     "text": [
      "[5 9 7 6 6 8 9]\n",
      "int32\n",
      "(7,)\n"
     ]
    }
   ],
   "source": [
    "import numpy as np\n",
    "a = np.random.randint(5, 10, size=7)\n",
    "print(a)\n",
    "print(a.dtype)\n",
    "print(a.shape)"
   ]
  },
  {
   "cell_type": "code",
   "execution_count": 43,
   "id": "e8f7fe38",
   "metadata": {},
   "outputs": [
    {
     "name": "stdout",
     "output_type": "stream",
     "text": [
      "[[3 4 1 1 1]\n",
      " [3 0 4 2 4]\n",
      " [1 2 2 0 0]\n",
      " [0 3 3 3 3]\n",
      " [4 4 2 1 0]]\n",
      "int32\n",
      "(5, 5)\n"
     ]
    }
   ],
   "source": [
    "import numpy as np\n",
    "a = np.random.randint(5, size=(5,5))\n",
    "print(a)\n",
    "print(a.dtype)\n",
    "print(a.shape)"
   ]
  },
  {
   "cell_type": "code",
   "execution_count": 35,
   "id": "6dd489bc",
   "metadata": {},
   "outputs": [
    {
     "name": "stdout",
     "output_type": "stream",
     "text": [
      "[[6 8 6]\n",
      " [9 5 8]]\n",
      "int32\n",
      "(2, 3)\n"
     ]
    }
   ],
   "source": [
    "import numpy as np\n",
    "a = np.random.randint(5, 10, size=(2,3))\n",
    "print(a)\n",
    "print(a.dtype)\n",
    "print(a.shape)"
   ]
  },
  {
   "cell_type": "markdown",
   "id": "c6c5817c",
   "metadata": {},
   "source": [
    "Generate a 1 x 3 array with 3 different upper bounds"
   ]
  },
  {
   "cell_type": "code",
   "execution_count": 37,
   "id": "ebe9160b",
   "metadata": {},
   "outputs": [
    {
     "name": "stdout",
     "output_type": "stream",
     "text": [
      "[ 7 18  5 31]\n",
      "int32\n",
      "(4,)\n"
     ]
    }
   ],
   "source": [
    "import numpy as np\n",
    "a = np.random.randint(5, [10,20,30,40])\n",
    "print(a)\n",
    "print(a.dtype)\n",
    "print(a.shape)"
   ]
  },
  {
   "cell_type": "markdown",
   "id": "9d98da0c",
   "metadata": {},
   "source": [
    "Generate a 1 by 3 array with 3 different lower bounds"
   ]
  },
  {
   "cell_type": "code",
   "execution_count": 46,
   "id": "324403f6",
   "metadata": {},
   "outputs": [
    {
     "name": "stdout",
     "output_type": "stream",
     "text": [
      "[5 7 8]\n",
      "int32\n",
      "(3,)\n"
     ]
    }
   ],
   "source": [
    "import numpy as np\n",
    "a = np.random.randint([1,3,5], 10)\n",
    "print(a)\n",
    "print(a.dtype)\n",
    "print(a.shape)"
   ]
  },
  {
   "cell_type": "markdown",
   "id": "c1945b3b",
   "metadata": {},
   "source": [
    "Generate a 1 by 3 array with 3 different lower bounds and different upper bounds"
   ]
  },
  {
   "cell_type": "code",
   "execution_count": 43,
   "id": "0ee4a039",
   "metadata": {},
   "outputs": [
    {
     "name": "stdout",
     "output_type": "stream",
     "text": [
      "[ 3  7 21]\n",
      "int32\n",
      "(3,)\n"
     ]
    }
   ],
   "source": [
    "import numpy as np\n",
    "a = np.random.randint([1,3,5], [10,20,30])\n",
    "print(a)\n",
    "print(a.dtype)\n",
    "print(a.shape)"
   ]
  },
  {
   "cell_type": "code",
   "execution_count": 44,
   "id": "42aa21ae",
   "metadata": {},
   "outputs": [
    {
     "name": "stdout",
     "output_type": "stream",
     "text": [
      "[[ 3  4 27]\n",
      " [ 3  6  8]]\n",
      "int32\n",
      "(2, 3)\n"
     ]
    }
   ],
   "source": [
    "import numpy as np\n",
    "a = np.random.randint([[1,3,5],[2,4,6]], [[10,20,30],[10,20,30]])\n",
    "print(a)\n",
    "print(a.dtype)\n",
    "print(a.shape)"
   ]
  },
  {
   "cell_type": "markdown",
   "id": "4b659a20",
   "metadata": {},
   "source": [
    "# random.randn        syntax: random.randn(d0, d1, ..., dn)"
   ]
  },
  {
   "cell_type": "markdown",
   "id": "14f8dff3",
   "metadata": {},
   "source": [
    "Return a sample (or samples) from the “standard normal” distribution."
   ]
  },
  {
   "cell_type": "markdown",
   "id": "3589924c",
   "metadata": {},
   "source": [
    "Parameters: d0, d1, …, dnint, optional The dimensions of the returned array, must be non-negative. If no argument is given a single Python float is returned."
   ]
  },
  {
   "cell_type": "code",
   "execution_count": 10,
   "id": "16746274",
   "metadata": {},
   "outputs": [
    {
     "name": "stdout",
     "output_type": "stream",
     "text": [
      "[[-0.8349082  -0.84358209  1.49433131]\n",
      " [-0.83473282  0.18499763  0.2453991 ]\n",
      " [-1.57207592  1.31415189 -0.81478235]]\n"
     ]
    }
   ],
   "source": [
    "import numpy as np\n",
    "a = np.random.randn(3,3)\n",
    "print(a)\n",
    "#print(a.dtype)\n",
    "#print(a.shape)"
   ]
  },
  {
   "cell_type": "code",
   "execution_count": 32,
   "id": "4a7b7ba6",
   "metadata": {},
   "outputs": [
    {
     "name": "stdout",
     "output_type": "stream",
     "text": [
      "[[-0.62073762  0.25899482  0.90236593]\n",
      " [ 0.90211706  1.15493395  0.87795115]]\n",
      "float64\n",
      "(2, 3)\n"
     ]
    }
   ],
   "source": [
    "import numpy as np\n",
    "a = np.random.randn(2,3)\n",
    "print(a)\n",
    "print(a.dtype)\n",
    "print(a.shape)"
   ]
  },
  {
   "cell_type": "code",
   "execution_count": 9,
   "id": "228f6017",
   "metadata": {},
   "outputs": [
    {
     "name": "stdout",
     "output_type": "stream",
     "text": [
      "[0.81745442 0.90872507 0.62597273]\n",
      "[-0.09085082 -0.73265099  1.50558431]\n"
     ]
    }
   ],
   "source": [
    "import numpy as np\n",
    "a = np.random.rand(3)\n",
    "b = np.random.randn(3)\n",
    "print(a)\n",
    "print(b)"
   ]
  },
  {
   "cell_type": "markdown",
   "id": "8d286ce7",
   "metadata": {},
   "source": [
    "# NumPy Array Indexing"
   ]
  },
  {
   "cell_type": "markdown",
   "id": "770281c0",
   "metadata": {},
   "source": [
    "Get the first element from the following array:"
   ]
  },
  {
   "cell_type": "code",
   "execution_count": 1,
   "id": "2197941c",
   "metadata": {},
   "outputs": [
    {
     "name": "stdout",
     "output_type": "stream",
     "text": [
      "1\n"
     ]
    }
   ],
   "source": [
    "import numpy as np\n",
    "\n",
    "arr = np.array([1, 2, 3, 4])\n",
    "\n",
    "print(arr[0])"
   ]
  },
  {
   "cell_type": "markdown",
   "id": "579d4fd8",
   "metadata": {},
   "source": [
    "Get the second element from the following array."
   ]
  },
  {
   "cell_type": "code",
   "execution_count": null,
   "id": "b1b8f678",
   "metadata": {},
   "outputs": [],
   "source": [
    "import numpy as np\n",
    "\n",
    "arr = np.array([1, 2, 3, 4])\n",
    "\n",
    "print(arr[1])"
   ]
  },
  {
   "cell_type": "markdown",
   "id": "f6f5178d",
   "metadata": {},
   "source": [
    "Get third and fourth elements from the following array and add them."
   ]
  },
  {
   "cell_type": "code",
   "execution_count": null,
   "id": "852fe331",
   "metadata": {},
   "outputs": [],
   "source": [
    "import numpy as np\n",
    "\n",
    "arr = np.array([1, 2, 3, 4])\n",
    "\n",
    "print(arr[2] + arr[3])"
   ]
  },
  {
   "cell_type": "markdown",
   "id": "97d063bf",
   "metadata": {},
   "source": [
    "# Access 2-D Arrays"
   ]
  },
  {
   "cell_type": "markdown",
   "id": "ab826b8c",
   "metadata": {},
   "source": [
    "Access the element on the first row, second column:"
   ]
  },
  {
   "cell_type": "code",
   "execution_count": 13,
   "id": "8930a429",
   "metadata": {},
   "outputs": [
    {
     "name": "stdout",
     "output_type": "stream",
     "text": [
      "2nd element on 1st row:  2\n"
     ]
    }
   ],
   "source": [
    "import numpy as np\n",
    "\n",
    "arr = np.array([[1,2,3,4,5], [6,7,8,9,10]])\n",
    "\n",
    "print('2nd element on 1st row: ', arr[0, 1])"
   ]
  },
  {
   "cell_type": "markdown",
   "id": "802a65d2",
   "metadata": {},
   "source": [
    "Access the element on the 2nd row, 5th column:"
   ]
  },
  {
   "cell_type": "code",
   "execution_count": 14,
   "id": "96e0c4dd",
   "metadata": {},
   "outputs": [
    {
     "name": "stdout",
     "output_type": "stream",
     "text": [
      "5th element on 2nd row:  10\n"
     ]
    }
   ],
   "source": [
    "import numpy as np\n",
    "\n",
    "arr = np.array([[1,2,3,4,5], [6,7,8,9,10]])\n",
    "\n",
    "print('5th element on 2nd row: ', arr[1, 4])"
   ]
  },
  {
   "cell_type": "markdown",
   "id": "9cc7e4de",
   "metadata": {},
   "source": [
    "# Access 3-D Arrays"
   ]
  },
  {
   "cell_type": "markdown",
   "id": "9a2257f2",
   "metadata": {},
   "source": [
    "Access the third element of the second array of the first array:"
   ]
  },
  {
   "cell_type": "code",
   "execution_count": 57,
   "id": "1a5c3024",
   "metadata": {},
   "outputs": [
    {
     "name": "stdout",
     "output_type": "stream",
     "text": [
      "6\n"
     ]
    }
   ],
   "source": [
    "import numpy as np\n",
    "\n",
    "arr = np.array([[[1, 2, 3], [4, 5, 6]], [[7, 8, 9], [10, 11, 12]]])\n",
    "\n",
    "print(arr[0, 1, 2])"
   ]
  },
  {
   "cell_type": "code",
   "execution_count": 16,
   "id": "89f5e325",
   "metadata": {},
   "outputs": [
    {
     "name": "stdout",
     "output_type": "stream",
     "text": [
      "9\n"
     ]
    }
   ],
   "source": [
    "#Access the third element of the first array of the second array:\n",
    "import numpy as np\n",
    "\n",
    "arr = np.array([[[1, 2, 3], [4, 5, 6]], [[7, 8, 9], [10, 11, 12]]])\n",
    "\n",
    "print(arr[1, 0, 2])"
   ]
  },
  {
   "cell_type": "markdown",
   "id": "6e475e74",
   "metadata": {},
   "source": [
    "# Negative Indexing"
   ]
  },
  {
   "cell_type": "markdown",
   "id": "e9751d8c",
   "metadata": {},
   "source": [
    "Print the last element from the 2nd dim:"
   ]
  },
  {
   "cell_type": "code",
   "execution_count": 17,
   "id": "0de59487",
   "metadata": {},
   "outputs": [
    {
     "name": "stdout",
     "output_type": "stream",
     "text": [
      "Last element from 2nd dim:  10\n"
     ]
    }
   ],
   "source": [
    "import numpy as np\n",
    "\n",
    "arr = np.array([[1,2,3,4,5], [6,7,8,9,10]])\n",
    "\n",
    "print('Last element from 2nd dim: ', arr[1, -1])"
   ]
  },
  {
   "cell_type": "markdown",
   "id": "80efbe6c",
   "metadata": {},
   "source": [
    "# NumPy Array Slicing"
   ]
  },
  {
   "cell_type": "code",
   "execution_count": 3,
   "id": "de96fc05",
   "metadata": {},
   "outputs": [],
   "source": [
    "#1.Slicing in python means taking elements from one given index to another given index.\n",
    "#2.We pass slice instead of index like this: [start:end]. The result includes the start \n",
    "   #index, but excludes the end index.\n",
    "#3.We can also define the step, like this: [start:end:step].\n",
    "#4.If we don't pass start its considered 0.\n",
    "#5.If we don't pass end its considered length of array in that dimension.\n",
    "#6.If we don't pass step its considered 1\n"
   ]
  },
  {
   "cell_type": "markdown",
   "id": "25ec9df3",
   "metadata": {},
   "source": [
    "Slice elements from index 1 to index 5 from the following array:"
   ]
  },
  {
   "cell_type": "code",
   "execution_count": 18,
   "id": "9532a598",
   "metadata": {},
   "outputs": [
    {
     "name": "stdout",
     "output_type": "stream",
     "text": [
      "[1 2 3 4]\n"
     ]
    }
   ],
   "source": [
    "import numpy as np\n",
    "\n",
    "arr = np.array([0,1, 2, 3, 4, 5, 6, 7])\n",
    "\n",
    "print(arr[1:5])"
   ]
  },
  {
   "cell_type": "markdown",
   "id": "b17e13f1",
   "metadata": {},
   "source": [
    "Slice elements from index 4 to the end of the array:"
   ]
  },
  {
   "cell_type": "code",
   "execution_count": 19,
   "id": "7a9e4f94",
   "metadata": {},
   "outputs": [
    {
     "name": "stdout",
     "output_type": "stream",
     "text": [
      "[5 6 7]\n"
     ]
    }
   ],
   "source": [
    "import numpy as np\n",
    "\n",
    "arr = np.array([1, 2, 3, 4, 5, 6, 7])\n",
    "\n",
    "print(arr[4:])"
   ]
  },
  {
   "cell_type": "markdown",
   "id": "65d2489f",
   "metadata": {},
   "source": [
    "Slice elements from the beginning to index 4 (not included):"
   ]
  },
  {
   "cell_type": "code",
   "execution_count": 20,
   "id": "3ebd9b17",
   "metadata": {},
   "outputs": [
    {
     "name": "stdout",
     "output_type": "stream",
     "text": [
      "[1 2 3 4]\n"
     ]
    }
   ],
   "source": [
    "import numpy as np\n",
    "\n",
    "arr = np.array([1, 2, 3, 4, 5, 6, 7])\n",
    "\n",
    "print(arr[:4])"
   ]
  },
  {
   "cell_type": "markdown",
   "id": "b8c69c64",
   "metadata": {},
   "source": [
    "# Negative Slicing"
   ]
  },
  {
   "cell_type": "markdown",
   "id": "296da97f",
   "metadata": {},
   "source": [
    "Slice from the index 3 from the end to index 1 from the end:"
   ]
  },
  {
   "cell_type": "code",
   "execution_count": 32,
   "id": "10d1664c",
   "metadata": {},
   "outputs": [
    {
     "name": "stdout",
     "output_type": "stream",
     "text": [
      "[5 6]\n"
     ]
    }
   ],
   "source": [
    "import numpy as np\n",
    "\n",
    "arr = np.array([1, 2, 3, 4, 5, 6, 7])\n",
    "\n",
    "print(arr[-3:-1])"
   ]
  },
  {
   "cell_type": "markdown",
   "id": "65ba7494",
   "metadata": {},
   "source": [
    "Return every other element from index 1 to index 5:"
   ]
  },
  {
   "cell_type": "code",
   "execution_count": 34,
   "id": "d25dfcd9",
   "metadata": {},
   "outputs": [
    {
     "name": "stdout",
     "output_type": "stream",
     "text": [
      "[2 4]\n"
     ]
    }
   ],
   "source": [
    "import numpy as np\n",
    "\n",
    "arr = np.array([1, 2, 3, 4, 5, 6, 7])\n",
    "\n",
    "print(arr[1:5:2])"
   ]
  },
  {
   "cell_type": "markdown",
   "id": "286e058a",
   "metadata": {},
   "source": [
    "Return every other element from the entire array:"
   ]
  },
  {
   "cell_type": "code",
   "execution_count": null,
   "id": "92272343",
   "metadata": {},
   "outputs": [],
   "source": [
    "import numpy as np\n",
    "\n",
    "arr = np.array([1, 2, 3, 4, 5, 6, 7])\n",
    "\n",
    "print(arr[::2])"
   ]
  },
  {
   "cell_type": "markdown",
   "id": "92004d28",
   "metadata": {},
   "source": [
    "# Slicing 2-D Arrays"
   ]
  },
  {
   "cell_type": "markdown",
   "id": "d9f10699",
   "metadata": {},
   "source": [
    "From the second element, slice elements from index 1 to index 4 (not included):"
   ]
  },
  {
   "cell_type": "code",
   "execution_count": 38,
   "id": "208e183c",
   "metadata": {},
   "outputs": [
    {
     "name": "stdout",
     "output_type": "stream",
     "text": [
      "[7 8 9]\n"
     ]
    }
   ],
   "source": [
    "import numpy as np\n",
    "\n",
    "arr = np.array([[1, 2, 3, 4, 5], [6, 7, 8, 9, 10]])\n",
    "\n",
    "print(arr[1, 1:4])"
   ]
  },
  {
   "cell_type": "markdown",
   "id": "1c38dddb",
   "metadata": {},
   "source": [
    "From both arrays, return index 2:"
   ]
  },
  {
   "cell_type": "code",
   "execution_count": 37,
   "id": "2d25db38",
   "metadata": {},
   "outputs": [
    {
     "name": "stdout",
     "output_type": "stream",
     "text": [
      "[3 8]\n"
     ]
    }
   ],
   "source": [
    "import numpy as np\n",
    "\n",
    "arr = np.array([[1, 2, 3, 4, 5], [6, 7, 8, 9, 10]])\n",
    "\n",
    "print(arr[0:2, 2])"
   ]
  },
  {
   "cell_type": "markdown",
   "id": "9f35c449",
   "metadata": {},
   "source": [
    "From both elements, slice index 1 to index 4 (not included), this will return a 2-D array:"
   ]
  },
  {
   "cell_type": "code",
   "execution_count": null,
   "id": "af754e09",
   "metadata": {},
   "outputs": [],
   "source": [
    "import numpy as np\n",
    "\n",
    "arr = np.array([[1, 2, 3, 4, 5], [6, 7, 8, 9, 10]])\n",
    "\n",
    "print(arr[0:2, 1:4])"
   ]
  },
  {
   "cell_type": "markdown",
   "id": "32527da0",
   "metadata": {},
   "source": [
    "# NumPy Array Copy vs View"
   ]
  },
  {
   "cell_type": "markdown",
   "id": "0c0b3e3a",
   "metadata": {},
   "source": [
    "#The copy owns the data and any changes made to the copy will not affect original array, and any changes made to the original array will not affect the copy.\n",
    "#The view does not own the data and any changes made to the view will affect the original array, and any changes made to the original array will affect the view."
   ]
  },
  {
   "cell_type": "markdown",
   "id": "40b6223b",
   "metadata": {},
   "source": [
    "# COPY"
   ]
  },
  {
   "cell_type": "code",
   "execution_count": 10,
   "id": "56348213",
   "metadata": {},
   "outputs": [
    {
     "name": "stdout",
     "output_type": "stream",
     "text": [
      "[42  2  3  4  5]\n",
      "[1 2 3 4 5]\n"
     ]
    }
   ],
   "source": [
    "#Make a coimport numpy as np\n",
    "\n",
    "arr = np.array([1, 2, 3, 4, 5])\n",
    "x = arr.copy()\n",
    "arr[0] = 42\n",
    "\n",
    "print(arr)\n",
    "print(x)\n"
   ]
  },
  {
   "cell_type": "markdown",
   "id": "7f4c2822",
   "metadata": {},
   "source": [
    "# VIEW"
   ]
  },
  {
   "cell_type": "code",
   "execution_count": 11,
   "id": "cdc09762",
   "metadata": {},
   "outputs": [
    {
     "name": "stdout",
     "output_type": "stream",
     "text": [
      "[42  2  3  4  5]\n",
      "[42  2  3  4  5]\n"
     ]
    }
   ],
   "source": [
    "#Make a view, change the original array, and display both arrays:\n",
    "import numpy as np\n",
    "\n",
    "arr = np.array([1, 2, 3, 4, 5])\n",
    "x = arr.view()\n",
    "arr[0] = 42\n",
    "\n",
    "print(arr)\n",
    "print(x)"
   ]
  },
  {
   "cell_type": "markdown",
   "id": "584e03cc",
   "metadata": {},
   "source": [
    "# NumPy Array Reshaping"
   ]
  },
  {
   "cell_type": "markdown",
   "id": "f1dc0829",
   "metadata": {},
   "source": [
    "#Reshaping means changing the shape of an array.\n",
    "#The shape of an array is the number of elements in each dimension.\n",
    "#By reshaping we can add or remove dimensions or change number of elements in each dimension."
   ]
  },
  {
   "cell_type": "code",
   "execution_count": 69,
   "id": "8b05896f",
   "metadata": {},
   "outputs": [
    {
     "name": "stdout",
     "output_type": "stream",
     "text": [
      "Original Array:\n",
      "[ 1  2  3  4  5  6  7  8  9 10 11 12]\n",
      "\n",
      "Array dimentions are 4x3\n",
      "[[ 1  2  3]\n",
      " [ 4  5  6]\n",
      " [ 7  8  9]\n",
      " [10 11 12]]\n",
      "\n",
      "Array dimentions are 3x4\n",
      "[[ 1  2  3  4]\n",
      " [ 5  6  7  8]\n",
      " [ 9 10 11 12]]\n"
     ]
    }
   ],
   "source": [
    "#Convert the following 1-D array with 12 elements into a 2-D array.\n",
    "#The outermost dimension will have 4 arrays, each with 3 elements:\n",
    "\n",
    "import numpy as np\n",
    "\n",
    "a1 = np.array([1, 2, 3, 4, 5, 6, 7, 8, 9, 10, 11, 12])\n",
    "print(\"Original Array:\")\n",
    "print(a1)\n",
    "print(\"\\nArray dimensions are 4x3\")\n",
    "a2 = a1.reshape(4, 3)\n",
    "print(a2)\n",
    "print(\"\\nArray dimensions are 3x4\")\n",
    "a3 = a1.reshape(3, 4)\n",
    "print(a3)\n",
    "\n"
   ]
  },
  {
   "cell_type": "code",
   "execution_count": 1,
   "id": "ac846d5e",
   "metadata": {},
   "outputs": [
    {
     "name": "stdout",
     "output_type": "stream",
     "text": [
      "Original Array:\n",
      "[ 1  2  3  4  5  6  7  8  9 10 11 12]\n",
      "\n",
      "Array dimensions are 2x3x2\n",
      "[[[ 1  2]\n",
      "  [ 3  4]\n",
      "  [ 5  6]]\n",
      "\n",
      " [[ 7  8]\n",
      "  [ 9 10]\n",
      "  [11 12]]]\n",
      "\n",
      "Array dimensions are 3x2x2\n",
      "[[[ 1  2]\n",
      "  [ 3  4]]\n",
      "\n",
      " [[ 5  6]\n",
      "  [ 7  8]]\n",
      "\n",
      " [[ 9 10]\n",
      "  [11 12]]]\n"
     ]
    }
   ],
   "source": [
    "#Convert the following 1-D array with 12 elements into a 3-D array.\n",
    "#The outermost dimension will have 2 arrays that contains 3 arrays, each with 2 elements:\n",
    "\n",
    "import numpy as np\n",
    "\n",
    "a1 = np.array([1, 2, 3, 4, 5, 6, 7, 8, 9, 10, 11, 12])\n",
    "print(\"Original Array:\")\n",
    "print(a1)\n",
    "\n",
    "a2 = a1.reshape(2, 3, 2)\n",
    "print(\"\\nArray dimensions are 2x3x2\")\n",
    "print(a2)\n",
    "\n",
    "a3 = a1.reshape(3, 2, 2)\n",
    "print(\"\\nArray dimensions are 3x2x2\")\n",
    "print(a3)"
   ]
  },
  {
   "cell_type": "markdown",
   "id": "2e2d6817",
   "metadata": {},
   "source": [
    "# Array Aggregation Functions"
   ]
  },
  {
   "cell_type": "markdown",
   "id": "3d2823fc",
   "metadata": {},
   "source": [
    "# sum()"
   ]
  },
  {
   "cell_type": "code",
   "execution_count": 3,
   "id": "d19156b2",
   "metadata": {},
   "outputs": [
    {
     "name": "stdout",
     "output_type": "stream",
     "text": [
      "[[4 6 3 8 5]\n",
      " [4 5 6 2 7]\n",
      " [8 3 9 1 0]]\n",
      "71\n"
     ]
    }
   ],
   "source": [
    "#np.sum(array_name): Returns the sum of array elements (all row and columns).\n",
    "import numpy as np\n",
    "#a = np.array([4,6,3,8,5])     #1D array  26\n",
    "#a = np.array(([4,6,3,8,5],[4,5,6,2,7]))   #2D array  \n",
    "a = np.array(([4,6,3,8,5],[4,5,6,2,7],[8,3,9,1,0]))    #3D array\n",
    "print(a)\n",
    "print(np.sum(a))"
   ]
  },
  {
   "cell_type": "code",
   "execution_count": 20,
   "id": "bd7cdfc5",
   "metadata": {},
   "outputs": [
    {
     "name": "stdout",
     "output_type": "stream",
     "text": [
      "[[4 6 3 8 5]\n",
      " [4 5 6 2 7]]\n",
      "[ 8 11  9 10 12]\n",
      "[[4 6 3 8 5]\n",
      " [4 5 6 2 7]]\n",
      "[26 24]\n"
     ]
    }
   ],
   "source": [
    "#np.sum(array_name, axis=0 or 1): Returns the sum of array elements over a given axis.\n",
    "import numpy as np\n",
    "a = np.array(([4,6,3,8,5],[4,5,6,2,7])) #2D array\n",
    "#a = np.array(([4,6,3,8,5],[4,5,6,2,7],[8,3,9,1,0])) #3D array\n",
    "print(a)\n",
    "print(np.sum(a, axis=0))    #across the rows (column wise)\n",
    "print(a)\n",
    "print(np.sum(a, axis=1))    #across the columns (row wise)"
   ]
  },
  {
   "cell_type": "markdown",
   "id": "b11df37c",
   "metadata": {},
   "source": [
    "# mean()"
   ]
  },
  {
   "cell_type": "code",
   "execution_count": 5,
   "id": "2c673b38",
   "metadata": {},
   "outputs": [
    {
     "name": "stdout",
     "output_type": "stream",
     "text": [
      "[[4 6 3 8 5]\n",
      " [4 5 6 2 7]]\n",
      "5.0\n"
     ]
    }
   ],
   "source": [
    "#np.mean(array_name): Computes the arithmetic mean of given array (all row and columns).\n",
    "import numpy as np\n",
    "#a = np.array([4,6,3,8,5])     #1D array\n",
    "a = np.array(([4,6,3,8,5],[4,5,6,2,7]))   #2D array\n",
    "#a = np.array(([4,6,3,8,5],[4,5,6,2,7],[8,3,9,1,0]))    #3D array\n",
    "print(a)\n",
    "print(np.mean(a))"
   ]
  },
  {
   "cell_type": "code",
   "execution_count": 21,
   "id": "4f0b30ee",
   "metadata": {},
   "outputs": [
    {
     "name": "stdout",
     "output_type": "stream",
     "text": [
      "[[4 6 3 8 5]\n",
      " [4 5 6 2 7]]\n",
      "[4.  5.5 4.5 5.  6. ]\n",
      "[[4 6 3 8 5]\n",
      " [4 5 6 2 7]]\n",
      "[5.2 4.8]\n"
     ]
    }
   ],
   "source": [
    "#np.mean(array_name, axis=0 or 1): Returns the arithmetic mean of given array elements over a given axis.\n",
    "import numpy as np\n",
    "a = np.array(([4,6,3,8,5],[4,5,6,2,7]))   #2D array\n",
    "#a = np.array(([4,6,3,8,5],[4,5,6,2,7],[8,3,9,1,0])) #3D array\n",
    "print(a)\n",
    "print(np.mean(a, axis=0))    #across the rows\n",
    "print(a)\n",
    "print(np.mean(a, axis=1))    #across the columns"
   ]
  },
  {
   "cell_type": "markdown",
   "id": "5a6dc198",
   "metadata": {},
   "source": [
    "# np.std(): Standard Deviation"
   ]
  },
  {
   "cell_type": "code",
   "execution_count": 28,
   "id": "e5257a60",
   "metadata": {},
   "outputs": [
    {
     "name": "stdout",
     "output_type": "stream",
     "text": [
      "[[4 6 3 8 5]\n",
      " [4 5 6 2 7]]\n",
      "1.7320508075688772\n"
     ]
    }
   ],
   "source": [
    "#np.std(array_name): Computes the standard deviation along the specified axis. (all row and columns).\n",
    "import numpy as np\n",
    "#a = np.array([4,6,3,8,5])     #1D array\n",
    "a = np.array(([4,6,3,8,5],[4,5,6,2,7]))   #2D array\n",
    "#a = np.array(([4,6,3,8,5],[4,5,6,2,7],[8,3,9,1,0]))    #3D array\n",
    "print(a)\n",
    "print(np.std(a))"
   ]
  },
  {
   "cell_type": "code",
   "execution_count": 23,
   "id": "784dd977",
   "metadata": {},
   "outputs": [
    {
     "name": "stdout",
     "output_type": "stream",
     "text": [
      "[[4 6 3 8 5]\n",
      " [4 5 6 2 7]]\n",
      "[0.  0.5 1.5 3.  1. ]\n",
      "[[4 6 3 8 5]\n",
      " [4 5 6 2 7]]\n",
      "[1.72046505 1.72046505]\n"
     ]
    }
   ],
   "source": [
    "#np.std(array_name, axis= 0 or 1): Computes the standard deviation along the specified axis.\n",
    "import numpy as np\n",
    "a = np.array(([4,6,3,8,5],[4,5,6,2,7]))   #2D array\n",
    "#a = np.array(([4,6,3,8,5],[4,5,6,2,7],[8,3,9,1,0])) #3D array\n",
    "print(a)\n",
    "print(np.std(a, axis=0))    #across the rows\n",
    "print(a)\n",
    "print(np.std(a, axis=1))    #across the columns"
   ]
  },
  {
   "cell_type": "markdown",
   "id": "20be6d2a",
   "metadata": {},
   "source": [
    "# np.var(): variance"
   ]
  },
  {
   "cell_type": "code",
   "execution_count": 31,
   "id": "bb851210",
   "metadata": {},
   "outputs": [
    {
     "name": "stdout",
     "output_type": "stream",
     "text": [
      "[[4 6 3 8 5]\n",
      " [4 5 6 2 7]\n",
      " [8 3 9 1 0]]\n",
      "6.595555555555555\n"
     ]
    }
   ],
   "source": [
    "#np.var(array_name): Computes the variance along the specified axis. (all row and columns).\n",
    "import numpy as np\n",
    "#a = np.array([4,6,3,8,5])     #1D array\n",
    "#a = np.array(([4,6,3,8,5],[4,5,6,2,7]))   #2D array\n",
    "a = np.array(([4,6,3,8,5],[4,5,6,2,7],[8,3,9,1,0]))    #3D array\n",
    "print(a)\n",
    "print(np.var(a))"
   ]
  },
  {
   "cell_type": "code",
   "execution_count": 32,
   "id": "342d8d7d",
   "metadata": {},
   "outputs": [
    {
     "name": "stdout",
     "output_type": "stream",
     "text": [
      "[[4 6 3 8 5]\n",
      " [4 5 6 2 7]]\n",
      "[0.   0.25 2.25 9.   1.  ]\n",
      "[[4 6 3 8 5]\n",
      " [4 5 6 2 7]]\n",
      "[2.96 2.96]\n"
     ]
    }
   ],
   "source": [
    "#np.var(array_name, axis= 0 or 1): Computes the variance along the specified axis.\n",
    "import numpy as np\n",
    "a = np.array(([4,6,3,8,5],[4,5,6,2,7]))   #2D array\n",
    "#a = np.array(([4,6,3,8,5],[4,5,6,2,7],[8,3,9,1,0])) #3D array\n",
    "print(a)\n",
    "print(np.var(a, axis=0))    #across the rows\n",
    "print(a)\n",
    "print(np.var(a, axis=1))    #across the columns"
   ]
  },
  {
   "cell_type": "markdown",
   "id": "e0d6c760",
   "metadata": {},
   "source": [
    "# np.min(): minimum"
   ]
  },
  {
   "cell_type": "code",
   "execution_count": 35,
   "id": "5677f498",
   "metadata": {},
   "outputs": [
    {
     "name": "stdout",
     "output_type": "stream",
     "text": [
      "[[4 6 3 8 5]\n",
      " [4 5 6 2 7]]\n",
      "2\n"
     ]
    }
   ],
   "source": [
    "#np.min(array_name): Returns the indices of the minimum values along an axis.. (all row and columns).\n",
    "import numpy as np\n",
    "#a = np.array([4,6,3,8,5])     #1D array\n",
    "a = np.array(([4,6,3,8,5],[4,5,6,2,7]))   #2D array\n",
    "#a = np.array(([4,6,3,8,5],[4,5,6,2,7],[8,3,9,1,0]))    #3D array\n",
    "print(a)\n",
    "print(np.min(a))"
   ]
  },
  {
   "cell_type": "code",
   "execution_count": 34,
   "id": "63a51114",
   "metadata": {},
   "outputs": [
    {
     "name": "stdout",
     "output_type": "stream",
     "text": [
      "[[4 6 3 8 5]\n",
      " [4 5 6 2 7]]\n",
      "[4 5 3 2 5]\n",
      "[[4 6 3 8 5]\n",
      " [4 5 6 2 7]]\n",
      "[3 2]\n"
     ]
    }
   ],
   "source": [
    "#np.min(array_name, axis= 0 or 1): Returns the indices of the minimum values along an axis...\n",
    "import numpy as np\n",
    "a = np.array(([4,6,3,8,5],[4,5,6,2,7]))   #2D array\n",
    "#a = np.array(([4,6,3,8,5],[4,5,6,2,7],[8,3,9,1,0])) #3D array\n",
    "print(a)\n",
    "print(np.min(a, axis=0))    #across the rows\n",
    "print(a)\n",
    "print(np.min(a, axis=1))    #across the columns"
   ]
  },
  {
   "cell_type": "markdown",
   "id": "b63f1536",
   "metadata": {},
   "source": [
    "# np.max(): maximum"
   ]
  },
  {
   "cell_type": "code",
   "execution_count": 36,
   "id": "4f42c262",
   "metadata": {},
   "outputs": [
    {
     "name": "stdout",
     "output_type": "stream",
     "text": [
      "[[4 6 3 8 5]\n",
      " [4 5 6 2 7]]\n",
      "8\n"
     ]
    }
   ],
   "source": [
    "#np.max(array_name): Returns the indices of the max values along an axis.. (all row and columns).\n",
    "import numpy as np\n",
    "#a = np.array([4,6,3,8,5])     #1D array\n",
    "a = np.array(([4,6,3,8,5],[4,5,6,2,7]))   #2D array\n",
    "#a = np.array(([4,6,3,8,5],[4,5,6,2,7],[8,3,9,1,0]))    #3D array\n",
    "print(a)\n",
    "print(np.max(a))"
   ]
  },
  {
   "cell_type": "code",
   "execution_count": 37,
   "id": "2463d5b5",
   "metadata": {},
   "outputs": [
    {
     "name": "stdout",
     "output_type": "stream",
     "text": [
      "[[4 6 3 8 5]\n",
      " [4 5 6 2 7]]\n",
      "[4 6 6 8 7]\n",
      "[[4 6 3 8 5]\n",
      " [4 5 6 2 7]]\n",
      "[8 7]\n"
     ]
    }
   ],
   "source": [
    "#np.max(array_name, axis= 0 or 1): Returns the indices of the maximum values along an axis...\n",
    "import numpy as np\n",
    "a = np.array(([4,6,3,8,5],[4,5,6,2,7]))   #2D array\n",
    "#a = np.array(([4,6,3,8,5],[4,5,6,2,7],[8,3,9,1,0])) #3D array\n",
    "print(a)\n",
    "print(np.max(a, axis=0))    #across the rows\n",
    "print(a)\n",
    "print(np.max(a, axis=1))    #across the columns"
   ]
  },
  {
   "cell_type": "markdown",
   "id": "fd8e1a4f",
   "metadata": {},
   "source": [
    "# Vectorized Operations"
   ]
  },
  {
   "cell_type": "code",
   "execution_count": null,
   "id": "49f67b22",
   "metadata": {},
   "outputs": [],
   "source": []
  },
  {
   "cell_type": "code",
   "execution_count": null,
   "id": "4ace2fb4",
   "metadata": {},
   "outputs": [],
   "source": []
  },
  {
   "cell_type": "markdown",
   "id": "17fdae7e",
   "metadata": {},
   "source": [
    "# Use Map, Filter, Reduce and Lambda Functions with NumPy"
   ]
  },
  {
   "cell_type": "code",
   "execution_count": null,
   "id": "d0403297",
   "metadata": {},
   "outputs": [],
   "source": []
  },
  {
   "cell_type": "code",
   "execution_count": null,
   "id": "eac9ef8e",
   "metadata": {},
   "outputs": [],
   "source": []
  },
  {
   "cell_type": "code",
   "execution_count": null,
   "id": "b28baaa4",
   "metadata": {},
   "outputs": [],
   "source": []
  },
  {
   "cell_type": "markdown",
   "id": "b791b3cc",
   "metadata": {},
   "source": [
    "# Transpose of a matrix"
   ]
  },
  {
   "cell_type": "code",
   "execution_count": null,
   "id": "099b5ac9",
   "metadata": {},
   "outputs": [],
   "source": []
  },
  {
   "cell_type": "code",
   "execution_count": null,
   "id": "a7281a6c",
   "metadata": {},
   "outputs": [],
   "source": []
  },
  {
   "cell_type": "code",
   "execution_count": null,
   "id": "b9cf552c",
   "metadata": {},
   "outputs": [],
   "source": []
  },
  {
   "cell_type": "markdown",
   "id": "977ce1c4",
   "metadata": {},
   "source": [
    "# END"
   ]
  }
 ],
 "metadata": {
  "kernelspec": {
   "display_name": "Python 3 (ipykernel)",
   "language": "python",
   "name": "python3"
  },
  "language_info": {
   "codemirror_mode": {
    "name": "ipython",
    "version": 3
   },
   "file_extension": ".py",
   "mimetype": "text/x-python",
   "name": "python",
   "nbconvert_exporter": "python",
   "pygments_lexer": "ipython3",
   "version": "3.9.12"
  }
 },
 "nbformat": 4,
 "nbformat_minor": 5
}
