{
 "cells": [
  {
   "cell_type": "markdown",
   "id": "f5052cbd",
   "metadata": {},
   "source": [
    "# Installing MySQL Connector"
   ]
  },
  {
   "cell_type": "code",
   "execution_count": null,
   "id": "173be80a",
   "metadata": {},
   "outputs": [],
   "source": [
    "!python -m pip install mysql-connector-python"
   ]
  },
  {
   "cell_type": "markdown",
   "id": "c8c785b7",
   "metadata": {},
   "source": [
    "# Import mysql Connector"
   ]
  },
  {
   "cell_type": "code",
   "execution_count": 22,
   "id": "d70ec236",
   "metadata": {},
   "outputs": [],
   "source": [
    "import mysql.connector as con"
   ]
  },
  {
   "cell_type": "markdown",
   "id": "b9e3d07a",
   "metadata": {},
   "source": [
    "# Connection to DATABASE"
   ]
  },
  {
   "cell_type": "code",
   "execution_count": 23,
   "id": "a132ae4f",
   "metadata": {},
   "outputs": [
    {
     "name": "stdout",
     "output_type": "stream",
     "text": [
      "<mysql.connector.connection_cext.CMySQLConnection object at 0x000001C42FC66A00>\n"
     ]
    }
   ],
   "source": [
    "import mysql.connector as con\n",
    "new_db = con.connect(\n",
    "    host = \"localhost\",\n",
    "    user = \"root\",\n",
    "    password = \"root\"\n",
    ")\n",
    "print (new_db)"
   ]
  },
  {
   "cell_type": "markdown",
   "id": "8aa43f93",
   "metadata": {},
   "source": [
    "# Creating a DataBase"
   ]
  },
  {
   "cell_type": "code",
   "execution_count": 26,
   "id": "7ae26cb5",
   "metadata": {},
   "outputs": [],
   "source": [
    "import mysql.connector as con\n",
    "new_db = con.connect(\n",
    "    host = \"localhost\",\n",
    "    user = \"root\",\n",
    "    password = \"root\"\n",
    ")\n",
    "new_cursor = new_db.cursor()\n",
    "new_cursor.execute(\"CREATE DATABASE myData\")"
   ]
  },
  {
   "cell_type": "markdown",
   "id": "74be1043",
   "metadata": {},
   "source": [
    "# Check if database exists (Created)"
   ]
  },
  {
   "cell_type": "code",
   "execution_count": 29,
   "id": "20c07534",
   "metadata": {},
   "outputs": [
    {
     "name": "stdout",
     "output_type": "stream",
     "text": [
      "('emp',)\n",
      "('empolyee',)\n",
      "('information_schema',)\n",
      "('mydata',)\n",
      "('mysql',)\n",
      "('newdata',)\n",
      "('performance_schema',)\n",
      "('sys',)\n"
     ]
    }
   ],
   "source": [
    "import mysql.connector as con\n",
    "new_db = con.connect(\n",
    "    host = \"localhost\",\n",
    "    user = \"root\",\n",
    "    password = \"root\"\n",
    ")\n",
    "new_cursor = new_db.cursor()\n",
    "new_cursor.execute(\"SHOW DATABASES\")\n",
    "for n in new_cursor:\n",
    "    print(n)"
   ]
  },
  {
   "cell_type": "markdown",
   "id": "6f501f3d",
   "metadata": {},
   "source": [
    "# Creating Tables and showing Data"
   ]
  },
  {
   "cell_type": "code",
   "execution_count": 1,
   "id": "d78c67b7",
   "metadata": {},
   "outputs": [
    {
     "ename": "ProgrammingError",
     "evalue": "1050 (42S01): Table 'students' already exists",
     "output_type": "error",
     "traceback": [
      "\u001b[1;31m---------------------------------------------------------------------------\u001b[0m",
      "\u001b[1;31mMySQLInterfaceError\u001b[0m                       Traceback (most recent call last)",
      "File \u001b[1;32m~\\anaconda3\\lib\\site-packages\\mysql\\connector\\connection_cext.py:555\u001b[0m, in \u001b[0;36mCMySQLConnection.cmd_query\u001b[1;34m(self, query, raw, buffered, raw_as_string)\u001b[0m\n\u001b[0;32m    554\u001b[0m         query \u001b[38;5;241m=\u001b[39m query\u001b[38;5;241m.\u001b[39mencode(\u001b[38;5;124m\"\u001b[39m\u001b[38;5;124mutf-8\u001b[39m\u001b[38;5;124m\"\u001b[39m)\n\u001b[1;32m--> 555\u001b[0m     \u001b[38;5;28;43mself\u001b[39;49m\u001b[38;5;241;43m.\u001b[39;49m\u001b[43m_cmysql\u001b[49m\u001b[38;5;241;43m.\u001b[39;49m\u001b[43mquery\u001b[49m\u001b[43m(\u001b[49m\n\u001b[0;32m    556\u001b[0m \u001b[43m        \u001b[49m\u001b[43mquery\u001b[49m\u001b[43m,\u001b[49m\n\u001b[0;32m    557\u001b[0m \u001b[43m        \u001b[49m\u001b[43mraw\u001b[49m\u001b[38;5;241;43m=\u001b[39;49m\u001b[43mraw\u001b[49m\u001b[43m,\u001b[49m\n\u001b[0;32m    558\u001b[0m \u001b[43m        \u001b[49m\u001b[43mbuffered\u001b[49m\u001b[38;5;241;43m=\u001b[39;49m\u001b[43mbuffered\u001b[49m\u001b[43m,\u001b[49m\n\u001b[0;32m    559\u001b[0m \u001b[43m        \u001b[49m\u001b[43mraw_as_string\u001b[49m\u001b[38;5;241;43m=\u001b[39;49m\u001b[43mraw_as_string\u001b[49m\u001b[43m,\u001b[49m\n\u001b[0;32m    560\u001b[0m \u001b[43m        \u001b[49m\u001b[43mquery_attrs\u001b[49m\u001b[38;5;241;43m=\u001b[39;49m\u001b[38;5;28;43mself\u001b[39;49m\u001b[38;5;241;43m.\u001b[39;49m\u001b[43m_query_attrs\u001b[49m\u001b[43m,\u001b[49m\n\u001b[0;32m    561\u001b[0m \u001b[43m    \u001b[49m\u001b[43m)\u001b[49m\n\u001b[0;32m    562\u001b[0m \u001b[38;5;28;01mexcept\u001b[39;00m MySQLInterfaceError \u001b[38;5;28;01mas\u001b[39;00m err:\n",
      "\u001b[1;31mMySQLInterfaceError\u001b[0m: Table 'students' already exists",
      "\nThe above exception was the direct cause of the following exception:\n",
      "\u001b[1;31mProgrammingError\u001b[0m                          Traceback (most recent call last)",
      "Input \u001b[1;32mIn [1]\u001b[0m, in \u001b[0;36m<cell line: 9>\u001b[1;34m()\u001b[0m\n\u001b[0;32m      2\u001b[0m new_db \u001b[38;5;241m=\u001b[39m con\u001b[38;5;241m.\u001b[39mconnect(\n\u001b[0;32m      3\u001b[0m     host \u001b[38;5;241m=\u001b[39m \u001b[38;5;124m\"\u001b[39m\u001b[38;5;124mlocalhost\u001b[39m\u001b[38;5;124m\"\u001b[39m,\n\u001b[0;32m      4\u001b[0m     user \u001b[38;5;241m=\u001b[39m \u001b[38;5;124m\"\u001b[39m\u001b[38;5;124mroot\u001b[39m\u001b[38;5;124m\"\u001b[39m,\n\u001b[0;32m      5\u001b[0m     password \u001b[38;5;241m=\u001b[39m \u001b[38;5;124m\"\u001b[39m\u001b[38;5;124mroot\u001b[39m\u001b[38;5;124m\"\u001b[39m,\n\u001b[0;32m      6\u001b[0m     database \u001b[38;5;241m=\u001b[39m \u001b[38;5;124m\"\u001b[39m\u001b[38;5;124mmydata\u001b[39m\u001b[38;5;124m\"\u001b[39m\n\u001b[0;32m      7\u001b[0m )\n\u001b[0;32m      8\u001b[0m new_cursor \u001b[38;5;241m=\u001b[39m new_db\u001b[38;5;241m.\u001b[39mcursor()\n\u001b[1;32m----> 9\u001b[0m \u001b[43mnew_cursor\u001b[49m\u001b[38;5;241;43m.\u001b[39;49m\u001b[43mexecute\u001b[49m\u001b[43m(\u001b[49m\u001b[38;5;124;43m\"\u001b[39;49m\u001b[38;5;124;43mCREATE TABLE students (name VARCHAR(200), regno VARCHAR(10))\u001b[39;49m\u001b[38;5;124;43m\"\u001b[39;49m\u001b[43m)\u001b[49m\n",
      "File \u001b[1;32m~\\anaconda3\\lib\\site-packages\\mysql\\connector\\cursor_cext.py:276\u001b[0m, in \u001b[0;36mCMySQLCursor.execute\u001b[1;34m(self, operation, params, multi)\u001b[0m\n\u001b[0;32m    271\u001b[0m             \u001b[38;5;28;01mraise\u001b[39;00m ProgrammingError(\n\u001b[0;32m    272\u001b[0m                 \u001b[38;5;124m\"\u001b[39m\u001b[38;5;124mNot all parameters were used in the SQL statement\u001b[39m\u001b[38;5;124m\"\u001b[39m\n\u001b[0;32m    273\u001b[0m             )\n\u001b[0;32m    275\u001b[0m \u001b[38;5;28;01mtry\u001b[39;00m:\n\u001b[1;32m--> 276\u001b[0m     result \u001b[38;5;241m=\u001b[39m \u001b[38;5;28;43mself\u001b[39;49m\u001b[38;5;241;43m.\u001b[39;49m\u001b[43m_cnx\u001b[49m\u001b[38;5;241;43m.\u001b[39;49m\u001b[43mcmd_query\u001b[49m\u001b[43m(\u001b[49m\n\u001b[0;32m    277\u001b[0m \u001b[43m        \u001b[49m\u001b[43mstmt\u001b[49m\u001b[43m,\u001b[49m\n\u001b[0;32m    278\u001b[0m \u001b[43m        \u001b[49m\u001b[43mraw\u001b[49m\u001b[38;5;241;43m=\u001b[39;49m\u001b[38;5;28;43mself\u001b[39;49m\u001b[38;5;241;43m.\u001b[39;49m\u001b[43m_raw\u001b[49m\u001b[43m,\u001b[49m\n\u001b[0;32m    279\u001b[0m \u001b[43m        \u001b[49m\u001b[43mbuffered\u001b[49m\u001b[38;5;241;43m=\u001b[39;49m\u001b[38;5;28;43mself\u001b[39;49m\u001b[38;5;241;43m.\u001b[39;49m\u001b[43m_buffered\u001b[49m\u001b[43m,\u001b[49m\n\u001b[0;32m    280\u001b[0m \u001b[43m        \u001b[49m\u001b[43mraw_as_string\u001b[49m\u001b[38;5;241;43m=\u001b[39;49m\u001b[38;5;28;43mself\u001b[39;49m\u001b[38;5;241;43m.\u001b[39;49m\u001b[43m_raw_as_string\u001b[49m\u001b[43m,\u001b[49m\n\u001b[0;32m    281\u001b[0m \u001b[43m    \u001b[49m\u001b[43m)\u001b[49m\n\u001b[0;32m    282\u001b[0m \u001b[38;5;28;01mexcept\u001b[39;00m MySQLInterfaceError \u001b[38;5;28;01mas\u001b[39;00m err:\n\u001b[0;32m    283\u001b[0m     \u001b[38;5;28;01mraise\u001b[39;00m get_mysql_exception(\n\u001b[0;32m    284\u001b[0m         msg\u001b[38;5;241m=\u001b[39merr\u001b[38;5;241m.\u001b[39mmsg, errno\u001b[38;5;241m=\u001b[39merr\u001b[38;5;241m.\u001b[39merrno, sqlstate\u001b[38;5;241m=\u001b[39merr\u001b[38;5;241m.\u001b[39msqlstate\n\u001b[0;32m    285\u001b[0m     ) \u001b[38;5;28;01mfrom\u001b[39;00m \u001b[38;5;21;01merr\u001b[39;00m\n",
      "File \u001b[1;32m~\\anaconda3\\lib\\site-packages\\mysql\\connector\\connection_cext.py:563\u001b[0m, in \u001b[0;36mCMySQLConnection.cmd_query\u001b[1;34m(self, query, raw, buffered, raw_as_string)\u001b[0m\n\u001b[0;32m    555\u001b[0m     \u001b[38;5;28mself\u001b[39m\u001b[38;5;241m.\u001b[39m_cmysql\u001b[38;5;241m.\u001b[39mquery(\n\u001b[0;32m    556\u001b[0m         query,\n\u001b[0;32m    557\u001b[0m         raw\u001b[38;5;241m=\u001b[39mraw,\n\u001b[1;32m   (...)\u001b[0m\n\u001b[0;32m    560\u001b[0m         query_attrs\u001b[38;5;241m=\u001b[39m\u001b[38;5;28mself\u001b[39m\u001b[38;5;241m.\u001b[39m_query_attrs,\n\u001b[0;32m    561\u001b[0m     )\n\u001b[0;32m    562\u001b[0m \u001b[38;5;28;01mexcept\u001b[39;00m MySQLInterfaceError \u001b[38;5;28;01mas\u001b[39;00m err:\n\u001b[1;32m--> 563\u001b[0m     \u001b[38;5;28;01mraise\u001b[39;00m get_mysql_exception(\n\u001b[0;32m    564\u001b[0m         err\u001b[38;5;241m.\u001b[39merrno, msg\u001b[38;5;241m=\u001b[39merr\u001b[38;5;241m.\u001b[39mmsg, sqlstate\u001b[38;5;241m=\u001b[39merr\u001b[38;5;241m.\u001b[39msqlstate\n\u001b[0;32m    565\u001b[0m     ) \u001b[38;5;28;01mfrom\u001b[39;00m \u001b[38;5;21;01merr\u001b[39;00m\n\u001b[0;32m    566\u001b[0m \u001b[38;5;28;01mexcept\u001b[39;00m \u001b[38;5;167;01mAttributeError\u001b[39;00m \u001b[38;5;28;01mas\u001b[39;00m err:\n\u001b[0;32m    567\u001b[0m     addr \u001b[38;5;241m=\u001b[39m (\n\u001b[0;32m    568\u001b[0m         \u001b[38;5;28mself\u001b[39m\u001b[38;5;241m.\u001b[39m_unix_socket \u001b[38;5;28;01mif\u001b[39;00m \u001b[38;5;28mself\u001b[39m\u001b[38;5;241m.\u001b[39m_unix_socket \u001b[38;5;28;01melse\u001b[39;00m \u001b[38;5;124mf\u001b[39m\u001b[38;5;124m\"\u001b[39m\u001b[38;5;132;01m{\u001b[39;00m\u001b[38;5;28mself\u001b[39m\u001b[38;5;241m.\u001b[39m_host\u001b[38;5;132;01m}\u001b[39;00m\u001b[38;5;124m:\u001b[39m\u001b[38;5;132;01m{\u001b[39;00m\u001b[38;5;28mself\u001b[39m\u001b[38;5;241m.\u001b[39m_port\u001b[38;5;132;01m}\u001b[39;00m\u001b[38;5;124m\"\u001b[39m\n\u001b[0;32m    569\u001b[0m     )\n",
      "\u001b[1;31mProgrammingError\u001b[0m: 1050 (42S01): Table 'students' already exists"
     ]
    }
   ],
   "source": [
    "import mysql.connector as con\n",
    "new_db = con.connect(\n",
    "    host = \"localhost\",\n",
    "    user = \"root\",\n",
    "    password = \"root\",\n",
    "    database = \"mydata\"\n",
    ")\n",
    "new_cursor = new_db.cursor()\n",
    "new_cursor.execute(\"CREATE TABLE students (name VARCHAR(200), regno VARCHAR(10))\")"
   ]
  },
  {
   "cell_type": "markdown",
   "id": "0f38a13a",
   "metadata": {},
   "source": [
    "# List all Tables in new database"
   ]
  },
  {
   "cell_type": "code",
   "execution_count": 42,
   "id": "66a942c6",
   "metadata": {},
   "outputs": [
    {
     "name": "stdout",
     "output_type": "stream",
     "text": [
      "('students',)\n"
     ]
    }
   ],
   "source": [
    "import mysql.connector as con\n",
    "new_db = con.connect(\n",
    "    host = \"localhost\",\n",
    "    user = \"root\",\n",
    "    password = \"root\",\n",
    "    database = \"mydata\"\n",
    ")\n",
    "new_cursor = new_db.cursor()\n",
    "new_cursor.execute(\"SHOW TABLES\")\n",
    "for n in new_cursor:\n",
    "    print(n)"
   ]
  },
  {
   "cell_type": "markdown",
   "id": "3916bbbe",
   "metadata": {},
   "source": [
    "# Add primary Key When Creating Table"
   ]
  },
  {
   "cell_type": "code",
   "execution_count": 33,
   "id": "5b1b8713",
   "metadata": {},
   "outputs": [],
   "source": [
    "import mysql.connector as con\n",
    "new_db = con.connect(\n",
    "    host = \"localhost\",\n",
    "    user = \"root\",\n",
    "    password = \"root\",\n",
    "    database = \"mydata\"\n",
    ")\n",
    "new_cursor = new_db.cursor()\n",
    "new_cursor.execute(\"CREATE TABLE student (rollno INT AUTO_INCREMENT PRIMARY KEY, name VARCHAR(200), regno VARCHAR(10))\")"
   ]
  },
  {
   "cell_type": "markdown",
   "id": "65e56132",
   "metadata": {},
   "source": [
    "# Add primary Key if Table already exists"
   ]
  },
  {
   "cell_type": "code",
   "execution_count": 35,
   "id": "b613bb68",
   "metadata": {},
   "outputs": [],
   "source": [
    "import mysql.connector as con\n",
    "new_db = con.connect(\n",
    "    host = \"localhost\",\n",
    "    user = \"root\",\n",
    "    password = \"root\",\n",
    "    database = \"mydata\"\n",
    ")\n",
    "new_cursor = new_db.cursor()\n",
    "new_cursor.execute(\"ALTER TABLE students ADD COLUMN rollno INT AUTO_INCREMENT PRIMARY KEY\")"
   ]
  },
  {
   "cell_type": "markdown",
   "id": "2f9487e6",
   "metadata": {},
   "source": [
    "# Inserting data into Tables"
   ]
  },
  {
   "cell_type": "code",
   "execution_count": 2,
   "id": "13d1d2b4",
   "metadata": {},
   "outputs": [
    {
     "name": "stdout",
     "output_type": "stream",
     "text": [
      "1 new record inserted\n"
     ]
    }
   ],
   "source": [
    "import mysql.connector as con\n",
    "new_db = con.connect(\n",
    "    host = \"localhost\",\n",
    "    user = \"root\",\n",
    "    password = \"root\",\n",
    "    database = \"mydata\"\n",
    ")\n",
    "new_cursor = new_db.cursor()\n",
    "query = \"INSERT INTO students (name, regno) VALUES (%s, %s)\"\n",
    "values = (\"rahul\", \"393CS19001\")\n",
    "new_cursor.execute(query,values)\n",
    "new_db.commit()\n",
    "print(new_cursor.rowcount, \"new record inserted\")"
   ]
  },
  {
   "cell_type": "markdown",
   "id": "6c933614",
   "metadata": {},
   "source": [
    "# Inserting Multiple records into table"
   ]
  },
  {
   "cell_type": "code",
   "execution_count": 65,
   "id": "b9ad4d7b",
   "metadata": {},
   "outputs": [
    {
     "name": "stdout",
     "output_type": "stream",
     "text": [
      "4 new record inserted\n"
     ]
    }
   ],
   "source": [
    "import mysql.connector as con\n",
    "new_db = con.connect(\n",
    "    host = \"localhost\",\n",
    "    user = \"root\",\n",
    "    password = \"root\",\n",
    "    database = \"mydata\"\n",
    ")\n",
    "new_cursor = new_db.cursor()\n",
    "sql = \"INSERT INTO students (name, regno) VALUES (%s, %s)\"\n",
    "values = [\n",
    "    CS19002\"),\n",
    "          (\"Akash\", \"393XS19003\"),\n",
    "          (\"Omkar\",\"393CS19004\"),\n",
    "          (\"Shreedhar\",\"393CS19005\")\n",
    "         ]\n",
    "new_cursor.executemany(sql,values)\n",
    "new_db.commit()\n",
    "print(new_cursor.rowcount, \"new record inserted\")"
   ]
  },
  {
   "cell_type": "markdown",
   "id": "41afaee4",
   "metadata": {},
   "source": [
    "# Reterive Data From Table"
   ]
  },
  {
   "cell_type": "code",
   "execution_count": 3,
   "id": "0a841916",
   "metadata": {},
   "outputs": [
    {
     "name": "stdout",
     "output_type": "stream",
     "text": [
      "('Abhinav', '393CS19002', 4)\n",
      "('Akash', '393CS19003', 5)\n",
      "('Abhinav', '393CS19002', 8)\n",
      "('Akash', '393XS19003', 9)\n",
      "('Omkar', '393CS19004', 10)\n",
      "('Shreedhar', '393CS19005', 11)\n",
      "('rahul', '393CS19001', 12)\n"
     ]
    }
   ],
   "source": [
    "import mysql.connector as con\n",
    "my_db = con.connect(\n",
    "    host = \"localhost\",\n",
    "    user = \"root\",\n",
    "    password = \"root\",\n",
    "    database = \"mydata\"\n",
    ")\n",
    "new_cursor = my_db.cursor()\n",
    "sql = \"SELECT * FROM students\"\n",
    "new_cursor.execute(sql)\n",
    "result = new_cursor.fetchall()\n",
    "for x in result:\n",
    "    print(x)\n"
   ]
  },
  {
   "cell_type": "markdown",
   "id": "359affb3",
   "metadata": {},
   "source": [
    "# Reterive perticular Data From Table"
   ]
  },
  {
   "cell_type": "code",
   "execution_count": 36,
   "id": "4839b4a1",
   "metadata": {},
   "outputs": [
    {
     "name": "stdout",
     "output_type": "stream",
     "text": [
      "('Abhinav',)\n",
      "('Akash',)\n",
      "('Shreedhar',)\n"
     ]
    }
   ],
   "source": [
    "import mysql.connector as con\n",
    "my_db = con.connect(\n",
    "    host = \"localhost\",\n",
    "    user = \"root\",\n",
    "    password = \"root\",\n",
    "    database = \"mydata\"\n",
    ")\n",
    "new_cursor = my_db.cursor()\n",
    "sql = \"SELECT name FROM students\"\n",
    "new_cursor.execute(sql)\n",
    "result = new_cursor.fetchall()\n",
    "for x in result:\n",
    "    print(x)"
   ]
  },
  {
   "cell_type": "markdown",
   "id": "296db536",
   "metadata": {},
   "source": [
    "# Reterive first record From Table"
   ]
  },
  {
   "cell_type": "code",
   "execution_count": 35,
   "id": "b816a977",
   "metadata": {},
   "outputs": [
    {
     "name": "stdout",
     "output_type": "stream",
     "text": [
      "('Abhinav', '393CS19002', 4)\n"
     ]
    }
   ],
   "source": [
    "import mysql.connector as con\n",
    "my_db = con.connect(\n",
    "    host = \"localhost\",\n",
    "    user = \"root\",\n",
    "    password = \"root\",\n",
    "    database = \"mydata\"\n",
    ")\n",
    "new_cursor = my_db.cursor()\n",
    "sql = \"SELECT * FROM students\"\n",
    "new_cursor.execute(sql)\n",
    "result = new_cursor.fetchone()\n",
    "print(result)"
   ]
  },
  {
   "cell_type": "markdown",
   "id": "3095c58c",
   "metadata": {},
   "source": [
    "# Filter The records"
   ]
  },
  {
   "cell_type": "code",
   "execution_count": 34,
   "id": "fabc09e0",
   "metadata": {},
   "outputs": [],
   "source": [
    "import mysql.connector as con\n",
    "my_db = con.connect(\n",
    "    host = \"localhost\",\n",
    "    user = \"root\",\n",
    "    password = \"root\",\n",
    "    database = \"mydata\"\n",
    ")\n",
    "new_cursor = my_db.cursor()\n",
    "sql = \"SELECT * FROM students WHERE name = 'rahul'\"\n",
    "new_cursor.execute(sql)\n",
    "result = new_cursor.fetchall()\n",
    "for x in result:\n",
    "    print(x)"
   ]
  },
  {
   "cell_type": "markdown",
   "id": "d19638d6",
   "metadata": {},
   "source": [
    "# reterive Records using Wildcard Character"
   ]
  },
  {
   "cell_type": "code",
   "execution_count": 32,
   "id": "440d3657",
   "metadata": {},
   "outputs": [
    {
     "name": "stdout",
     "output_type": "stream",
     "text": [
      "('Abhinav', '393CS19002', 4)\n",
      "('Shreedhar', '393CS19005', 7)\n"
     ]
    }
   ],
   "source": [
    "import mysql.connector as con\n",
    "my_db = con.connect(\n",
    "    host = \"localhost\",\n",
    "    user = \"root\",\n",
    "    password = \"root\",\n",
    "    database = \"mydata\"\n",
    ")\n",
    "new_cursor = my_db.cursor()\n",
    "sql = \"SELECT * FROM students WHERE regno LIKE '%CS%'\"\n",
    "new_cursor.execute(sql)\n",
    "result = new_cursor.fetchall()\n",
    "for x in result:\n",
    "    print(x)"
   ]
  },
  {
   "cell_type": "markdown",
   "id": "bca2b07c",
   "metadata": {},
   "source": [
    "# Sorting the Records"
   ]
  },
  {
   "cell_type": "code",
   "execution_count": 59,
   "id": "0f9c0da4",
   "metadata": {},
   "outputs": [
    {
     "name": "stdout",
     "output_type": "stream",
     "text": [
      "('Akash', '393CS19003', 5)\n",
      "('Abhinav', '393CS19002', 4)\n"
     ]
    }
   ],
   "source": [
    "import mysql.connector as con\n",
    "my_db = con.connect(\n",
    "    host = \"localhost\",\n",
    "    user = \"root\",\n",
    "    password = \"root\",\n",
    "    database = \"mydata\"\n",
    ")\n",
    "new_cursor = my_db.cursor()\n",
    "sql = \"SELECT * FROM students ORDER BY name DESC\"\n",
    "new_cursor.execute(sql)\n",
    "result = new_cursor.fetchall()\n",
    "for x in result:\n",
    "    print(x)"
   ]
  },
  {
   "cell_type": "markdown",
   "id": "17933497",
   "metadata": {},
   "source": [
    "# Delecting Record From Table"
   ]
  },
  {
   "cell_type": "code",
   "execution_count": 38,
   "id": "a84d23ea",
   "metadata": {},
   "outputs": [
    {
     "name": "stdout",
     "output_type": "stream",
     "text": [
      "1 records deleted from table\n"
     ]
    }
   ],
   "source": [
    "import mysql.connector as con\n",
    "my_db = con.connect(\n",
    "    host = \"localhost\",\n",
    "    user = \"root\",\n",
    "    password = \"root\",\n",
    "    database = \"mydata\"\n",
    ")\n",
    "new_cursor = my_db.cursor()\n",
    "sql = \"DELETE FROM students WHERE name = %s\"\n",
    "value = (\"shreedhar\",)\n",
    "new_cursor.execute(sql, value)\n",
    "my_db.commit()\n",
    "print(new_cursor.rowcount,\"records deleted from table\")"
   ]
  },
  {
   "cell_type": "markdown",
   "id": "820cb18b",
   "metadata": {},
   "source": [
    "# Deleting Table"
   ]
  },
  {
   "cell_type": "code",
   "execution_count": 43,
   "id": "5d353fd6",
   "metadata": {},
   "outputs": [],
   "source": [
    "import mysql.connector as con\n",
    "my_db = con.connect(\n",
    "    host = \"localhost\",\n",
    "    user = \"root\",\n",
    "    password = \"root\",\n",
    "    database = \"mydata\"\n",
    ")\n",
    "new_cursor = my_db.cursor()\n",
    "sql = \"DROP TABLE IF EXISTS student\"\n",
    "new_cursor.execute(sql)"
   ]
  },
  {
   "cell_type": "markdown",
   "id": "a49be2ca",
   "metadata": {},
   "source": [
    "# updating Table"
   ]
  },
  {
   "cell_type": "code",
   "execution_count": 58,
   "id": "5293f540",
   "metadata": {},
   "outputs": [
    {
     "name": "stdout",
     "output_type": "stream",
     "text": [
      "1 records Updated\n"
     ]
    }
   ],
   "source": [
    " import mysql.connector as con\n",
    "my_db = con.connect(\n",
    "    host = \"localhost\",\n",
    "    user = \"root\",\n",
    "    password = \"root\",\n",
    "    database = \"mydata\"\n",
    ")\n",
    "new_cursor = my_db.cursor()\n",
    "sql = \"UPDATE students SET regno = %s WHERE regno = %s\"\n",
    "value = (\"393CS19003\", \"393XS19003\")\n",
    "new_cursor.execute(sql,value)\n",
    "my_db.commit()\n",
    "print(new_cursor.rowcount, \"records Updated\")"
   ]
  },
  {
   "cell_type": "markdown",
   "id": "4e2bc437",
   "metadata": {},
   "source": [
    "# Reterive exact number of records from table"
   ]
  },
  {
   "cell_type": "code",
   "execution_count": 66,
   "id": "66babf17",
   "metadata": {},
   "outputs": [
    {
     "name": "stdout",
     "output_type": "stream",
     "text": [
      "('Akash', '393XS19003', 9)\n",
      "('Omkar', '393CS19004', 10)\n"
     ]
    }
   ],
   "source": [
    "import mysql.connector as con\n",
    "my_db = con.connect(\n",
    "    host = \"localhost\",\n",
    "    user = \"root\",\n",
    "    password = \"root\",\n",
    "    database = \"mydata\"\n",
    ")\n",
    "new_cursor = my_db.cursor()\n",
    "sql = \"SELECT * FROM students LIMIT 2 OFFSET 3\"\n",
    "new_cursor.execute(sql)\n",
    "result = new_cursor.fetchall()\n",
    "for x in result:\n",
    "    print(x)"
   ]
  },
  {
   "cell_type": "code",
   "execution_count": null,
   "id": "135d3a0c",
   "metadata": {},
   "outputs": [],
   "source": []
  }
 ],
 "metadata": {
  "celltoolbar": "Raw Cell Format",
  "kernelspec": {
   "display_name": "Python 3 (ipykernel)",
   "language": "python",
   "name": "python3"
  },
  "language_info": {
   "codemirror_mode": {
    "name": "ipython",
    "version": 3
   },
   "file_extension": ".py",
   "mimetype": "text/x-python",
   "name": "python",
   "nbconvert_exporter": "python",
   "pygments_lexer": "ipython3",
   "version": "3.9.12"
  }
 },
 "nbformat": 4,
 "nbformat_minor": 5
}
