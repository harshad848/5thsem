{
 "cells": [
  {
   "cell_type": "markdown",
   "id": "9d914e0c",
   "metadata": {},
   "source": [
    "# Panda Series: \n",
    "#Series is a one-dimensional labeled array capable of holding data of any type (integer, string, float, python objects, etc.). The axis labels are collectively called index."
   ]
  },
  {
   "cell_type": "raw",
   "id": "a64a2397",
   "metadata": {},
   "source": [
    "#Syntax: pd.Series( data, index, dtype, copy)\n",
    "#data-data takes various forms like ndarray, list, constants\n",
    "#index-Index values must be unique and hashable, same length as data. Default np.arrange(n) if no index is passed.\n",
    "#dtype-dtype is for data type. If None, data type will be inferred\n",
    "#copy-Copy data. Default False"
   ]
  },
  {
   "cell_type": "code",
   "execution_count": 6,
   "id": "4140736e",
   "metadata": {},
   "outputs": [
    {
     "name": "stdout",
     "output_type": "stream",
     "text": [
      "0    1\n",
      "1    2\n",
      "2    3\n",
      "3    4\n",
      "4    5\n",
      "dtype: int64\n",
      "0    a\n",
      "1    b\n",
      "2    c\n",
      "3    d\n",
      "dtype: object\n"
     ]
    }
   ],
   "source": [
    "import numpy as np\n",
    "import pandas as pd\n",
    "ser1 = pd.Series([1,2,3,4,5])\n",
    "#ser1 = pd.Series([1,2,3,4,5], dtype=np.float64)\n",
    "print(ser1)\n",
    "ser2 = pd.Series(['a','b','c','d'])\n",
    "print(ser2)"
   ]
  },
  {
   "cell_type": "code",
   "execution_count": 8,
   "id": "132da817",
   "metadata": {},
   "outputs": [
    {
     "name": "stdout",
     "output_type": "stream",
     "text": [
      "0     23\n",
      "1     45\n",
      "2     65\n",
      "3     43\n",
      "4     10\n",
      "5      6\n",
      "6      7\n",
      "7     34\n",
      "8      0\n",
      "9      0\n",
      "10     0\n",
      "dtype: int64\n"
     ]
    }
   ],
   "source": [
    "import numpy as np\n",
    "import pandas as pd\n",
    "score = pd.Series([23,45,65,43,10,6,7,34,0,0,0])\n",
    "#score = pd.Series([23,45,65,43,10,6,7,34,0,0,0],index=['Rohit','KL Rahul','Virat','Suraya','DK','Pandya','axar','Ashwin','Kumar','Singh','Sachin'])\n",
    "print(score)"
   ]
  },
  {
   "cell_type": "code",
   "execution_count": 10,
   "id": "81b06112",
   "metadata": {},
   "outputs": [
    {
     "name": "stdout",
     "output_type": "stream",
     "text": [
      "KL Rahul      23\n",
      "Rohit         45\n",
      "Virat         65\n",
      "Suryakumar    43\n",
      "Panth         10\n",
      "Hardik         6\n",
      "Chahal         7\n",
      "siraj         34\n",
      "Bumraha        0\n",
      "Shami          0\n",
      "Harshal        0\n",
      "dtype: int64\n"
     ]
    }
   ],
   "source": [
    "import numpy as np\n",
    "import pandas as pd\n",
    "i = pd.Index([\"KL Rahul\",\"Rohit\",\"Virat\",\"Suryakumar\",\"Panth\",\"Hardik\",\"Chahal\",\"siraj\",\"Bumraha\",\"Shami\",\"Harshal\"])##\n",
    "score = pd.Series([23,45,65,43,10,6,7,34,0,0,0], index=i)\n",
    "print(score)\n",
    "#print(\"Total\",sum(score))"
   ]
  },
  {
   "cell_type": "markdown",
   "id": "c7e02ecf",
   "metadata": {},
   "source": [
    "another method to create series using dictionary"
   ]
  },
  {
   "cell_type": "code",
   "execution_count": 15,
   "id": "e68f45f7",
   "metadata": {},
   "outputs": [
    {
     "name": "stdout",
     "output_type": "stream",
     "text": [
      "KL Rahul      23\n",
      "Rohit         45\n",
      "Virat         65\n",
      "Suryakumar    43\n",
      "Panth         10\n",
      "Hardik         6\n",
      "Chahal         7\n",
      "siraj         34\n",
      "Bumraha        0\n",
      "Shami          0\n",
      "Harshal        0\n",
      "dtype: int64\n"
     ]
    }
   ],
   "source": [
    "import numpy as np\n",
    "import pandas as pd\n",
    "score = pd.Series({\"KL Rahul\":23,\"Rohit\":45,\"Virat\":65,\"Suryakumar\":43,\"Panth\":10,\"Hardik\":6,\"Chahal\":7,\"siraj\":34,\"Bumraha\":0,\"Shami\":0,\"Harshal\":0})\n",
    "print(score)\n",
    "#print(\"Total\",sum(score))"
   ]
  },
  {
   "cell_type": "markdown",
   "id": "d75964e0",
   "metadata": {},
   "source": [
    "# DataFrames:"
   ]
  },
  {
   "cell_type": "code",
   "execution_count": 21,
   "id": "7634bc5c",
   "metadata": {},
   "outputs": [
    {
     "name": "stdout",
     "output_type": "stream",
     "text": [
      "[[0 1 2]\n",
      " [3 4 5]\n",
      " [6 7 8]]\n",
      "   A  B  C\n",
      "a  0  1  2\n",
      "b  3  4  5\n",
      "c  6  7  8\n"
     ]
    }
   ],
   "source": [
    "import numpy as np\n",
    "import pandas as pd\n",
    "arr = np.arange(0,9).reshape(3,3)\n",
    "print(arr)    #Numpy ndarray\n",
    "df = pd.DataFrame(arr,index=['a','b','c'],columns=['A','B','C'])\n",
    "print(df)     #Pandas data Frame"
   ]
  },
  {
   "cell_type": "code",
   "execution_count": 34,
   "id": "dd269661",
   "metadata": {},
   "outputs": [
    {
     "name": "stdout",
     "output_type": "stream",
     "text": [
      "         OSA  Python  SE  Java\n",
      "Rahul     23      24  20    19\n",
      "Krishna   20      24  25    21\n",
      "Abhinav   19      22  23    18\n"
     ]
    }
   ],
   "source": [
    "import numpy as np\n",
    "import pandas as pd\n",
    "df = pd.DataFrame([[23,24,20,19],[20,24,25,21],[19,22,23,18]], index=['Rahul','Krishna','Abhinav'], columns=['OSA','Python','SE','Java'])\n",
    "print(df)"
   ]
  },
  {
   "cell_type": "code",
   "execution_count": 2,
   "id": "f852e937",
   "metadata": {},
   "outputs": [
    {
     "ename": "ValueError",
     "evalue": "All arrays must be of the same length",
     "output_type": "error",
     "traceback": [
      "\u001b[1;31m---------------------------------------------------------------------------\u001b[0m",
      "\u001b[1;31mValueError\u001b[0m                                Traceback (most recent call last)",
      "Input \u001b[1;32mIn [2]\u001b[0m, in \u001b[0;36m<cell line: 3>\u001b[1;34m()\u001b[0m\n\u001b[0;32m      1\u001b[0m \u001b[38;5;28;01mimport\u001b[39;00m \u001b[38;5;21;01mnumpy\u001b[39;00m \u001b[38;5;28;01mas\u001b[39;00m \u001b[38;5;21;01mnp\u001b[39;00m\n\u001b[0;32m      2\u001b[0m \u001b[38;5;28;01mimport\u001b[39;00m \u001b[38;5;21;01mpandas\u001b[39;00m \u001b[38;5;28;01mas\u001b[39;00m \u001b[38;5;21;01mpd\u001b[39;00m\n\u001b[1;32m----> 3\u001b[0m df \u001b[38;5;241m=\u001b[39m \u001b[43mpd\u001b[49m\u001b[38;5;241;43m.\u001b[39;49m\u001b[43mDataFrame\u001b[49m\u001b[43m(\u001b[49m\u001b[43m{\u001b[49m\u001b[38;5;124;43m\"\u001b[39;49m\u001b[38;5;124;43mOSA\u001b[39;49m\u001b[38;5;124;43m\"\u001b[39;49m\u001b[43m:\u001b[49m\u001b[43m[\u001b[49m\u001b[38;5;241;43m23\u001b[39;49m\u001b[43m,\u001b[49m\u001b[38;5;241;43m20\u001b[39;49m\u001b[43m,\u001b[49m\u001b[38;5;241;43m19\u001b[39;49m\u001b[43m]\u001b[49m\u001b[43m,\u001b[49m\u001b[38;5;124;43m\"\u001b[39;49m\u001b[38;5;124;43mPython\u001b[39;49m\u001b[38;5;124;43m\"\u001b[39;49m\u001b[43m:\u001b[49m\u001b[43m[\u001b[49m\u001b[38;5;241;43m20\u001b[39;49m\u001b[43m,\u001b[49m\u001b[38;5;241;43m25\u001b[39;49m\u001b[43m,\u001b[49m\u001b[38;5;241;43m23\u001b[39;49m\u001b[43m,\u001b[49m\u001b[38;5;241;43m20\u001b[39;49m\u001b[43m]\u001b[49m\u001b[43m}\u001b[49m\u001b[43m)\u001b[49m   \u001b[38;5;66;03m#Error:All arrays must be of the same length\u001b[39;00m\n\u001b[0;32m      4\u001b[0m \u001b[38;5;66;03m#df = pd.DataFrame({\"OSA\":[23,20,19,20],\"Python\":[20,25,23,20]})\u001b[39;00m\n\u001b[0;32m      5\u001b[0m \u001b[38;5;28mprint\u001b[39m(df)\n",
      "File \u001b[1;32m~\\anaconda3\\lib\\site-packages\\pandas\\core\\frame.py:636\u001b[0m, in \u001b[0;36mDataFrame.__init__\u001b[1;34m(self, data, index, columns, dtype, copy)\u001b[0m\n\u001b[0;32m    630\u001b[0m     mgr \u001b[38;5;241m=\u001b[39m \u001b[38;5;28mself\u001b[39m\u001b[38;5;241m.\u001b[39m_init_mgr(\n\u001b[0;32m    631\u001b[0m         data, axes\u001b[38;5;241m=\u001b[39m{\u001b[38;5;124m\"\u001b[39m\u001b[38;5;124mindex\u001b[39m\u001b[38;5;124m\"\u001b[39m: index, \u001b[38;5;124m\"\u001b[39m\u001b[38;5;124mcolumns\u001b[39m\u001b[38;5;124m\"\u001b[39m: columns}, dtype\u001b[38;5;241m=\u001b[39mdtype, copy\u001b[38;5;241m=\u001b[39mcopy\n\u001b[0;32m    632\u001b[0m     )\n\u001b[0;32m    634\u001b[0m \u001b[38;5;28;01melif\u001b[39;00m \u001b[38;5;28misinstance\u001b[39m(data, \u001b[38;5;28mdict\u001b[39m):\n\u001b[0;32m    635\u001b[0m     \u001b[38;5;66;03m# GH#38939 de facto copy defaults to False only in non-dict cases\u001b[39;00m\n\u001b[1;32m--> 636\u001b[0m     mgr \u001b[38;5;241m=\u001b[39m \u001b[43mdict_to_mgr\u001b[49m\u001b[43m(\u001b[49m\u001b[43mdata\u001b[49m\u001b[43m,\u001b[49m\u001b[43m \u001b[49m\u001b[43mindex\u001b[49m\u001b[43m,\u001b[49m\u001b[43m \u001b[49m\u001b[43mcolumns\u001b[49m\u001b[43m,\u001b[49m\u001b[43m \u001b[49m\u001b[43mdtype\u001b[49m\u001b[38;5;241;43m=\u001b[39;49m\u001b[43mdtype\u001b[49m\u001b[43m,\u001b[49m\u001b[43m \u001b[49m\u001b[43mcopy\u001b[49m\u001b[38;5;241;43m=\u001b[39;49m\u001b[43mcopy\u001b[49m\u001b[43m,\u001b[49m\u001b[43m \u001b[49m\u001b[43mtyp\u001b[49m\u001b[38;5;241;43m=\u001b[39;49m\u001b[43mmanager\u001b[49m\u001b[43m)\u001b[49m\n\u001b[0;32m    637\u001b[0m \u001b[38;5;28;01melif\u001b[39;00m \u001b[38;5;28misinstance\u001b[39m(data, ma\u001b[38;5;241m.\u001b[39mMaskedArray):\n\u001b[0;32m    638\u001b[0m     \u001b[38;5;28;01mimport\u001b[39;00m \u001b[38;5;21;01mnumpy\u001b[39;00m\u001b[38;5;21;01m.\u001b[39;00m\u001b[38;5;21;01mma\u001b[39;00m\u001b[38;5;21;01m.\u001b[39;00m\u001b[38;5;21;01mmrecords\u001b[39;00m \u001b[38;5;28;01mas\u001b[39;00m \u001b[38;5;21;01mmrecords\u001b[39;00m\n",
      "File \u001b[1;32m~\\anaconda3\\lib\\site-packages\\pandas\\core\\internals\\construction.py:502\u001b[0m, in \u001b[0;36mdict_to_mgr\u001b[1;34m(data, index, columns, dtype, typ, copy)\u001b[0m\n\u001b[0;32m    494\u001b[0m     arrays \u001b[38;5;241m=\u001b[39m [\n\u001b[0;32m    495\u001b[0m         x\n\u001b[0;32m    496\u001b[0m         \u001b[38;5;28;01mif\u001b[39;00m \u001b[38;5;129;01mnot\u001b[39;00m \u001b[38;5;28mhasattr\u001b[39m(x, \u001b[38;5;124m\"\u001b[39m\u001b[38;5;124mdtype\u001b[39m\u001b[38;5;124m\"\u001b[39m) \u001b[38;5;129;01mor\u001b[39;00m \u001b[38;5;129;01mnot\u001b[39;00m \u001b[38;5;28misinstance\u001b[39m(x\u001b[38;5;241m.\u001b[39mdtype, ExtensionDtype)\n\u001b[0;32m    497\u001b[0m         \u001b[38;5;28;01melse\u001b[39;00m x\u001b[38;5;241m.\u001b[39mcopy()\n\u001b[0;32m    498\u001b[0m         \u001b[38;5;28;01mfor\u001b[39;00m x \u001b[38;5;129;01min\u001b[39;00m arrays\n\u001b[0;32m    499\u001b[0m     ]\n\u001b[0;32m    500\u001b[0m     \u001b[38;5;66;03m# TODO: can we get rid of the dt64tz special case above?\u001b[39;00m\n\u001b[1;32m--> 502\u001b[0m \u001b[38;5;28;01mreturn\u001b[39;00m \u001b[43marrays_to_mgr\u001b[49m\u001b[43m(\u001b[49m\u001b[43marrays\u001b[49m\u001b[43m,\u001b[49m\u001b[43m \u001b[49m\u001b[43mcolumns\u001b[49m\u001b[43m,\u001b[49m\u001b[43m \u001b[49m\u001b[43mindex\u001b[49m\u001b[43m,\u001b[49m\u001b[43m \u001b[49m\u001b[43mdtype\u001b[49m\u001b[38;5;241;43m=\u001b[39;49m\u001b[43mdtype\u001b[49m\u001b[43m,\u001b[49m\u001b[43m \u001b[49m\u001b[43mtyp\u001b[49m\u001b[38;5;241;43m=\u001b[39;49m\u001b[43mtyp\u001b[49m\u001b[43m,\u001b[49m\u001b[43m \u001b[49m\u001b[43mconsolidate\u001b[49m\u001b[38;5;241;43m=\u001b[39;49m\u001b[43mcopy\u001b[49m\u001b[43m)\u001b[49m\n",
      "File \u001b[1;32m~\\anaconda3\\lib\\site-packages\\pandas\\core\\internals\\construction.py:120\u001b[0m, in \u001b[0;36marrays_to_mgr\u001b[1;34m(arrays, columns, index, dtype, verify_integrity, typ, consolidate)\u001b[0m\n\u001b[0;32m    117\u001b[0m \u001b[38;5;28;01mif\u001b[39;00m verify_integrity:\n\u001b[0;32m    118\u001b[0m     \u001b[38;5;66;03m# figure out the index, if necessary\u001b[39;00m\n\u001b[0;32m    119\u001b[0m     \u001b[38;5;28;01mif\u001b[39;00m index \u001b[38;5;129;01mis\u001b[39;00m \u001b[38;5;28;01mNone\u001b[39;00m:\n\u001b[1;32m--> 120\u001b[0m         index \u001b[38;5;241m=\u001b[39m \u001b[43m_extract_index\u001b[49m\u001b[43m(\u001b[49m\u001b[43marrays\u001b[49m\u001b[43m)\u001b[49m\n\u001b[0;32m    121\u001b[0m     \u001b[38;5;28;01melse\u001b[39;00m:\n\u001b[0;32m    122\u001b[0m         index \u001b[38;5;241m=\u001b[39m ensure_index(index)\n",
      "File \u001b[1;32m~\\anaconda3\\lib\\site-packages\\pandas\\core\\internals\\construction.py:674\u001b[0m, in \u001b[0;36m_extract_index\u001b[1;34m(data)\u001b[0m\n\u001b[0;32m    672\u001b[0m lengths \u001b[38;5;241m=\u001b[39m \u001b[38;5;28mlist\u001b[39m(\u001b[38;5;28mset\u001b[39m(raw_lengths))\n\u001b[0;32m    673\u001b[0m \u001b[38;5;28;01mif\u001b[39;00m \u001b[38;5;28mlen\u001b[39m(lengths) \u001b[38;5;241m>\u001b[39m \u001b[38;5;241m1\u001b[39m:\n\u001b[1;32m--> 674\u001b[0m     \u001b[38;5;28;01mraise\u001b[39;00m \u001b[38;5;167;01mValueError\u001b[39;00m(\u001b[38;5;124m\"\u001b[39m\u001b[38;5;124mAll arrays must be of the same length\u001b[39m\u001b[38;5;124m\"\u001b[39m)\n\u001b[0;32m    676\u001b[0m \u001b[38;5;28;01mif\u001b[39;00m have_dicts:\n\u001b[0;32m    677\u001b[0m     \u001b[38;5;28;01mraise\u001b[39;00m \u001b[38;5;167;01mValueError\u001b[39;00m(\n\u001b[0;32m    678\u001b[0m         \u001b[38;5;124m\"\u001b[39m\u001b[38;5;124mMixing dicts with non-Series may lead to ambiguous ordering.\u001b[39m\u001b[38;5;124m\"\u001b[39m\n\u001b[0;32m    679\u001b[0m     )\n",
      "\u001b[1;31mValueError\u001b[0m: All arrays must be of the same length"
     ]
    }
   ],
   "source": [
    "import numpy as np\n",
    "import pandas as pd\n",
    "df = pd.DataFrame({\"OSA\":[23,20,19],\"Python\":[20,25,23,20]})   #Error:All arrays must be of the same length\n",
    "#df = pd.DataFrame({\"OSA\":[23,20,19,20],\"Python\":[20,25,23,20]})\n",
    "print(df)"
   ]
  },
  {
   "cell_type": "code",
   "execution_count": 9,
   "id": "39b622ab",
   "metadata": {},
   "outputs": [
    {
     "name": "stdout",
     "output_type": "stream",
     "text": [
      "    OSA  Python\n",
      "0  23.0      20\n",
      "1  20.0      25\n",
      "2  19.0      23\n",
      "3   NaN      20\n"
     ]
    }
   ],
   "source": [
    "import numpy as np\n",
    "import pandas as pd\n",
    "ser1 = pd.Series([23,20,19])\n",
    "ser2 = pd.Series([20,25,23,20])\n",
    "print(pd.DataFrame({\"OSA\":ser1,\"Python\":ser2}))"
   ]
  },
  {
   "cell_type": "markdown",
   "id": "54fedbe6",
   "metadata": {},
   "source": [
    "# Craete DataFrame containing Information about Cities."
   ]
  },
  {
   "cell_type": "code",
   "execution_count": 7,
   "id": "990e2244",
   "metadata": {},
   "outputs": [
    {
     "name": "stdout",
     "output_type": "stream",
     "text": [
      "            Population      Capital\n",
      "Karnataka         6.72    Bangalore\n",
      "Maharashtra      12.54       Mumbai\n",
      "Gujarat            7.0  Gandhinagar\n"
     ]
    }
   ],
   "source": [
    "import numpy as np\n",
    "import pandas as pd\n",
    "i = pd.Index(['Karnataka','Maharashtra','Gujarat'])\n",
    "#print(i)\n",
    "pop = pd.Series(['6.72','12.54','7.0'],index=i, name=\"Population\")\n",
    "#print(pop)\n",
    "cap = pd.Series(['Bangalore','Mumbai','Gandhinagar'],index=i, name=\"Capital\")\n",
    "#print(cap)\n",
    "#df = pd.DataFrame([pop,cap])     #Will Not Display in Proper format\n",
    "#df = pd.DataFrame([pop,cap]).T   #Will Display in Proper format but columns name missing\n",
    "df = pd.DataFrame({\"Population\":pop, \"Capital\":cap })\n",
    "#df = pd.DataFrame([['6.72','Bangalore'],['12.54','Mumbai'],['7.0','Gandhinagar']],index=['Karnataka','Maharashtra','Gujarat'],columns=['Population','Capital'])# ctraeting DataFramw in one line\n",
    "print(df)"
   ]
  },
  {
   "cell_type": "markdown",
   "id": "d00ef661",
   "metadata": {},
   "source": [
    "# How to ADD new Data to a Series"
   ]
  },
  {
   "cell_type": "code",
   "execution_count": 9,
   "id": "45cbcd70",
   "metadata": {},
   "outputs": [
    {
     "name": "stderr",
     "output_type": "stream",
     "text": [
      "C:\\Users\\ADMIN\\AppData\\Local\\Temp\\ipykernel_11976\\780253580.py:4: FutureWarning: The series.append method is deprecated and will be removed from pandas in a future version. Use pandas.concat instead.\n",
      "  pop.append(pd.Series({\"Madhaya Pradesh\":9.9}))\n"
     ]
    },
    {
     "data": {
      "text/plain": [
       "Karnataka           6.72\n",
       "Maharashtra        12.54\n",
       "Gujarat              7.0\n",
       "Madhaya Pradesh      9.9\n",
       "dtype: object"
      ]
     },
     "execution_count": 9,
     "metadata": {},
     "output_type": "execute_result"
    }
   ],
   "source": [
    "import numpy as np\n",
    "import pandas as pd\n",
    "#print(pop)\n",
    "pop.append(pd.Series({\"Madhaya Pradesh\":9.9}))\n",
    "#print(pop)"
   ]
  },
  {
   "cell_type": "markdown",
   "id": "7442459c",
   "metadata": {},
   "source": [
    "# How to ADD new Data to a Series"
   ]
  },
  {
   "cell_type": "markdown",
   "id": "fed85e9e",
   "metadata": {},
   "source": [
    "Method1"
   ]
  },
  {
   "cell_type": "code",
   "execution_count": 11,
   "id": "cd5fd324",
   "metadata": {},
   "outputs": [
    {
     "name": "stdout",
     "output_type": "stream",
     "text": [
      "              Population      Capital\n",
      "Karnataka           6.72    Bangalore\n",
      "Maharashtra        12.54       Mumbai\n",
      "Gujarat              7.0  Gandhinagar\n",
      "Tamil Nadu           8.9      Channai\n",
      "Andra Pradesh      12.54     Hydrabad\n"
     ]
    },
    {
     "name": "stderr",
     "output_type": "stream",
     "text": [
      "C:\\Users\\ADMIN\\AppData\\Local\\Temp\\ipykernel_11976\\747689594.py:5: FutureWarning: The frame.append method is deprecated and will be removed from pandas in a future version. Use pandas.concat instead.\n",
      "  print(df.append(pd.DataFrame([['8.9','Channai'],['12.54','Hydrabad']],index=['Tamil Nadu','Andra Pradesh'],columns=['Population','Capital'])))\n"
     ]
    }
   ],
   "source": [
    "import numpy as np\n",
    "import pandas as pd\n",
    "df = pd.DataFrame([['6.72','Bangalore'],['12.54','Mumbai'],['7.0','Gandhinagar']],index=['Karnataka','Maharashtra','Gujarat'],columns=['Population','Capital'])# ctraeting DataFrame in one line\n",
    "#print(df)\n",
    "print(df.append(pd.DataFrame([['8.9','Channai'],['12.54','Hydrabad']],index=['Tamil Nadu','Andra Pradesh'],columns=['Population','Capital'])))\n"
   ]
  },
  {
   "cell_type": "markdown",
   "id": "f3514eac",
   "metadata": {},
   "source": [
    "Method2:"
   ]
  },
  {
   "cell_type": "code",
   "execution_count": 27,
   "id": "8043987d",
   "metadata": {
    "scrolled": true
   },
   "outputs": [
    {
     "name": "stdout",
     "output_type": "stream",
     "text": [
      "            Population      Capital\n",
      "Karnataka         6.72    Bangalore\n",
      "Maharashtra      12.54       Mumbai\n",
      "Gujarat            7.0  Gandhinagar\n",
      "              Population      Capital\n",
      "Karnataka           6.72    Bangalore\n",
      "Maharashtra        12.54       Mumbai\n",
      "Gujarat              7.0  Gandhinagar\n",
      "Tamil Nadu           8.9      Channai\n",
      "Andra Pradesh       12.6     Hydrabad\n"
     ]
    },
    {
     "name": "stderr",
     "output_type": "stream",
     "text": [
      "C:\\Users\\ADMIN\\AppData\\Local\\Temp\\ipykernel_13440\\3860572821.py:8: FutureWarning: The frame.append method is deprecated and will be removed from pandas in a future version. Use pandas.concat instead.\n",
      "  print(df.append(pd.DataFrame({\"Population\": pd.Series({\"Tamil Nadu\":8.9, \"Andra Pradesh\":12.6}), \"Capital\": pd.Series({\"Tamil Nadu\":\"Channai\", \"Andra Pradesh\":\"Hydrabad\"})})))\n"
     ]
    }
   ],
   "source": [
    "import numpy as np\n",
    "import pandas as pd\n",
    "i = pd.Index(['Karnataka','Maharashtra','Gujarat'])\n",
    "pop = pd.Series(['6.72','12.54','7.0'],index=i, name=\"Population\")\n",
    "cap = pd.Series(['Bangalore','Mumbai','Gandhinagar'],index=i, name=\"Capital\")\n",
    "df = pd.DataFrame({\"Population\":pop, \"Capital\":cap })\n",
    "print(df)\n",
    "print(df.append(pd.DataFrame({\"Population\": pd.Series({\"Tamil Nadu\":8.9, \"Andra Pradesh\":12.6}), \"Capital\": pd.Series({\"Tamil Nadu\":\"Channai\", \"Andra Pradesh\":\"Hydrabad\"})})))"
   ]
  },
  {
   "cell_type": "markdown",
   "id": "edee4c88",
   "metadata": {},
   "source": [
    "# Concat new column to dataFrame:"
   ]
  },
  {
   "cell_type": "code",
   "execution_count": 27,
   "id": "cead1895",
   "metadata": {},
   "outputs": [
    {
     "name": "stdout",
     "output_type": "stream",
     "text": [
      "            Population      Capital\n",
      "Karnataka         6.72    Bangalore\n",
      "Maharashtra      12.54       Mumbai\n",
      "Gujarat            7.0  Gandhinagar\n"
     ]
    },
    {
     "data": {
      "text/html": [
       "<div>\n",
       "<style scoped>\n",
       "    .dataframe tbody tr th:only-of-type {\n",
       "        vertical-align: middle;\n",
       "    }\n",
       "\n",
       "    .dataframe tbody tr th {\n",
       "        vertical-align: top;\n",
       "    }\n",
       "\n",
       "    .dataframe thead th {\n",
       "        text-align: right;\n",
       "    }\n",
       "</style>\n",
       "<table border=\"1\" class=\"dataframe\">\n",
       "  <thead>\n",
       "    <tr style=\"text-align: right;\">\n",
       "      <th></th>\n",
       "      <th>Population</th>\n",
       "      <th>Capital</th>\n",
       "      <th>Area</th>\n",
       "      <th>CM</th>\n",
       "    </tr>\n",
       "  </thead>\n",
       "  <tbody>\n",
       "    <tr>\n",
       "      <th>Karnataka</th>\n",
       "      <td>6.72</td>\n",
       "      <td>Bangalore</td>\n",
       "      <td>2.1</td>\n",
       "      <td>Bomai</td>\n",
       "    </tr>\n",
       "    <tr>\n",
       "      <th>Maharashtra</th>\n",
       "      <td>12.54</td>\n",
       "      <td>Mumbai</td>\n",
       "      <td>3.1</td>\n",
       "      <td>Shinde</td>\n",
       "    </tr>\n",
       "    <tr>\n",
       "      <th>Gujarat</th>\n",
       "      <td>7.0</td>\n",
       "      <td>Gandhinagar</td>\n",
       "      <td>5.5</td>\n",
       "      <td>xyz</td>\n",
       "    </tr>\n",
       "  </tbody>\n",
       "</table>\n",
       "</div>"
      ],
      "text/plain": [
       "            Population      Capital Area      CM\n",
       "Karnataka         6.72    Bangalore  2.1   Bomai\n",
       "Maharashtra      12.54       Mumbai  3.1  Shinde\n",
       "Gujarat            7.0  Gandhinagar  5.5     xyz"
      ]
     },
     "execution_count": 27,
     "metadata": {},
     "output_type": "execute_result"
    }
   ],
   "source": [
    "import numpy as np\n",
    "import pandas as pd\n",
    "i = pd.Index(['Karnataka','Maharashtra','Gujarat'])\n",
    "pop = pd.Series(['6.72','12.54','7.0'],index=i, name=\"Population\")\n",
    "cap = pd.Series(['Bangalore','Mumbai','Gandhinagar'],index=i, name=\"Capital\")\n",
    "df = pd.DataFrame({\"Population\":pop, \"Capital\":cap })\n",
    "print(df)\n",
    "df1 = pd.concat(\n",
    "           [df, pd.DataFrame({\n",
    "                                \"Area\": pd.Series(['2.1','3.1','5.5'],index=pop.index),\n",
    "                                \"CM\": pd.Series(['Bomai','Shinde','xyz'],index=pop.index)\n",
    "                            })\n",
    "            ], axis=1\n",
    "         )\n",
    "df1.to_csv(\"cities.csv\")\n",
    "df1"
   ]
  },
  {
   "cell_type": "code",
   "execution_count": null,
   "id": "35bf6a28",
   "metadata": {},
   "outputs": [],
   "source": []
  }
 ],
 "metadata": {
  "kernelspec": {
   "display_name": "Python 3 (ipykernel)",
   "language": "python",
   "name": "python3"
  },
  "language_info": {
   "codemirror_mode": {
    "name": "ipython",
    "version": 3
   },
   "file_extension": ".py",
   "mimetype": "text/x-python",
   "name": "python",
   "nbconvert_exporter": "python",
   "pygments_lexer": "ipython3",
   "version": "3.9.12"
  }
 },
 "nbformat": 4,
 "nbformat_minor": 5
}
